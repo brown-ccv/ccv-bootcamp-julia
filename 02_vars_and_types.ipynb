{
 "cells": [
  {
   "cell_type": "markdown",
   "id": "minimal-james",
   "metadata": {
    "slideshow": {
     "slide_type": "slide"
    }
   },
   "source": [
    "# <center> Variables and Types in Julia</center>\n",
    "\n",
    "### <center> Paul Stey & Mary McGrath</center>\n",
    "### <center> Brown University — Center for Computation \\& Visualization — `ccv.brown.edu`</center>\n",
    "\n",
    "<center><img src=ccv-logo-square.png height=\"300\" width=\"300\"></center>"
   ]
  },
  {
   "cell_type": "markdown",
   "id": "nearby-marsh",
   "metadata": {
    "slideshow": {
     "slide_type": "slide"
    }
   },
   "source": [
    "\n",
    "# Outline\n",
    "\n",
    "1. Ways of Using Julia\n",
    "    * REPL\n",
    "    * `.jl` \"script\" file\n",
    "    * Jupyter Notebooks\n",
    "    * Atom/Juno or VS Code plugins\n",
    "2. Fundamental Types\n",
    "    * `Int`, `Float64`, `String`, `Char`, `Bool`\n",
    "3. Collection Types\n",
    "    * `Array` (and `Vector` and `Matrix`), `Set`, `Tuple`, `Dict`\n"
   ]
  },
  {
   "cell_type": "markdown",
   "id": "unique-fancy",
   "metadata": {
    "slideshow": {
     "slide_type": "slide"
    }
   },
   "source": [
    "\n",
    "# Ways to Use Julia\n",
    "\n",
    "1. REPL\n",
    "2. `.jl` \"script\" file\n",
    "3. Jupyter Notebook\n",
    "4. Atom/Juno or VSCode with Plug-ins\n"
   ]
  },
  {
   "cell_type": "markdown",
   "id": "plastic-aspect",
   "metadata": {
    "slideshow": {
     "slide_type": "slide"
    }
   },
   "source": [
    "# Numeric Variables"
   ]
  },
  {
   "cell_type": "code",
   "execution_count": null,
   "id": "prostate-assets",
   "metadata": {
    "slideshow": {
     "slide_type": "fragment"
    }
   },
   "outputs": [],
   "source": [
    "a = 42           # use `=` for variable assignment"
   ]
  },
  {
   "cell_type": "code",
   "execution_count": null,
   "id": "according-darwin",
   "metadata": {
    "slideshow": {
     "slide_type": "fragment"
    }
   },
   "outputs": [],
   "source": [
    "typeof(a)        # typeof() function gives us the type of a variable"
   ]
  },
  {
   "cell_type": "code",
   "execution_count": null,
   "id": "usual-former",
   "metadata": {
    "slideshow": {
     "slide_type": "fragment"
    }
   },
   "outputs": [],
   "source": [
    "b = 3.14        \n",
    "\n",
    "typeof(b)"
   ]
  },
  {
   "cell_type": "code",
   "execution_count": null,
   "id": "opposite-stock",
   "metadata": {
    "slideshow": {
     "slide_type": "fragment"
    }
   },
   "outputs": [],
   "source": [
    "c = UInt(37)\n",
    "\n",
    "typeof(c)"
   ]
  },
  {
   "cell_type": "markdown",
   "id": "junior-developer",
   "metadata": {
    "slideshow": {
     "slide_type": "slide"
    }
   },
   "source": [
    "# String and Character Variables"
   ]
  },
  {
   "cell_type": "code",
   "execution_count": null,
   "id": "elegant-serbia",
   "metadata": {
    "slideshow": {
     "slide_type": "fragment"
    }
   },
   "outputs": [],
   "source": [
    "s = \"hello, world\"\n",
    "\n",
    "typeof(s)"
   ]
  },
  {
   "cell_type": "code",
   "execution_count": null,
   "id": "chinese-beauty",
   "metadata": {
    "slideshow": {
     "slide_type": "fragment"
    }
   },
   "outputs": [],
   "source": [
    "c = 'f'\n",
    "\n",
    "typeof(c)"
   ]
  },
  {
   "cell_type": "code",
   "execution_count": null,
   "id": "military-safety",
   "metadata": {
    "slideshow": {
     "slide_type": "fragment"
    }
   },
   "outputs": [],
   "source": [
    "length(s)            # get string length"
   ]
  },
  {
   "cell_type": "markdown",
   "id": "published-indian",
   "metadata": {
    "slideshow": {
     "slide_type": "subslide"
    }
   },
   "source": [
    "## More String Operations"
   ]
  },
  {
   "cell_type": "code",
   "execution_count": null,
   "id": "binding-border",
   "metadata": {
    "slideshow": {
     "slide_type": "fragment"
    }
   },
   "outputs": [],
   "source": [
    "w = \"potato soup\"\n",
    "\n",
    "w[3]                      # index in to a string"
   ]
  },
  {
   "cell_type": "code",
   "execution_count": null,
   "id": "motivated-bacteria",
   "metadata": {
    "slideshow": {
     "slide_type": "fragment"
    }
   },
   "outputs": [],
   "source": [
    "w[1:6]                    # slice of a string"
   ]
  },
  {
   "cell_type": "code",
   "execution_count": null,
   "id": "minor-receptor",
   "metadata": {
    "slideshow": {
     "slide_type": "fragment"
    }
   },
   "outputs": [],
   "source": [
    "w[8:end]                  # use `end` for final element"
   ]
  },
  {
   "cell_type": "code",
   "execution_count": null,
   "id": "linear-prevention",
   "metadata": {
    "slideshow": {
     "slide_type": "fragment"
    }
   },
   "outputs": [],
   "source": [
    "dinner = \"cheesy \" * w    # string concatenation with `*`"
   ]
  },
  {
   "cell_type": "markdown",
   "id": "known-therapy",
   "metadata": {
    "slideshow": {
     "slide_type": "subslide"
    }
   },
   "source": [
    "### Even More String Operations"
   ]
  },
  {
   "cell_type": "code",
   "execution_count": null,
   "id": "classical-harvey",
   "metadata": {
    "slideshow": {
     "slide_type": "fragment"
    }
   },
   "outputs": [],
   "source": [
    "string(\"foo\", \"bar\")      # string concatenation with string()"
   ]
  },
  {
   "cell_type": "code",
   "execution_count": null,
   "id": "unnecessary-adobe",
   "metadata": {
    "slideshow": {
     "slide_type": "fragment"
    }
   },
   "outputs": [],
   "source": [
    "print(\"I love $a\")   # string interpolation with `$`"
   ]
  },
  {
   "cell_type": "markdown",
   "id": "reasonable-timber",
   "metadata": {
    "slideshow": {
     "slide_type": "subslide"
    }
   },
   "source": [
    "# Hiearchical Types and Shared Behavior"
   ]
  },
  {
   "cell_type": "markdown",
   "id": "american-reset",
   "metadata": {
    "slideshow": {
     "slide_type": "-"
    }
   },
   "source": [
    "![](images/type_system.png)"
   ]
  },
  {
   "cell_type": "markdown",
   "id": "forced-single",
   "metadata": {
    "slideshow": {
     "slide_type": "subslide"
    }
   },
   "source": [
    "## Testing for Subtype-ness"
   ]
  },
  {
   "cell_type": "code",
   "execution_count": null,
   "id": "numeric-career",
   "metadata": {
    "slideshow": {
     "slide_type": "fragment"
    }
   },
   "outputs": [],
   "source": [
    "UInt128 <: Integer"
   ]
  },
  {
   "cell_type": "code",
   "execution_count": null,
   "id": "posted-checkout",
   "metadata": {
    "slideshow": {
     "slide_type": "fragment"
    }
   },
   "outputs": [],
   "source": [
    "Float16 <: AbstractFloat"
   ]
  },
  {
   "cell_type": "code",
   "execution_count": null,
   "id": "limiting-providence",
   "metadata": {
    "slideshow": {
     "slide_type": "fragment"
    }
   },
   "outputs": [],
   "source": [
    "Real <: Rational"
   ]
  },
  {
   "cell_type": "code",
   "execution_count": null,
   "id": "rental-source",
   "metadata": {
    "slideshow": {
     "slide_type": "fragment"
    }
   },
   "outputs": [],
   "source": [
    "Rational <: Real"
   ]
  },
  {
   "cell_type": "markdown",
   "id": "widespread-planning",
   "metadata": {
    "slideshow": {
     "slide_type": "slide"
    }
   },
   "source": [
    "# Collection Types\n",
    "\n",
    "1. `Array` (and `Vector` and `Matrix`)\n",
    "2. `Tuple` (and `NamedTuple`)\n",
    "3. `Set`\n",
    "4. `Dict`"
   ]
  },
  {
   "cell_type": "markdown",
   "id": "color-costs",
   "metadata": {
    "slideshow": {
     "slide_type": "subslide"
    }
   },
   "source": [
    "## The `Array` Type"
   ]
  },
  {
   "cell_type": "code",
   "execution_count": null,
   "id": "suffering-conducting",
   "metadata": {
    "slideshow": {
     "slide_type": "fragment"
    }
   },
   "outputs": [],
   "source": [
    "a = [4, 3, 1]             # create 1-dimensional Array (i.e., Vector)"
   ]
  },
  {
   "cell_type": "code",
   "execution_count": null,
   "id": "funny-instrument",
   "metadata": {
    "slideshow": {
     "slide_type": "fragment"
    }
   },
   "outputs": [],
   "source": [
    "typeof(a)"
   ]
  },
  {
   "cell_type": "code",
   "execution_count": null,
   "id": "chicken-champion",
   "metadata": {
    "slideshow": {
     "slide_type": "fragment"
    }
   },
   "outputs": [],
   "source": [
    "B = [4 5 6; 1 2 3]       # create 2-dimensional Array (i.e., Matrix)"
   ]
  },
  {
   "cell_type": "code",
   "execution_count": null,
   "id": "significant-strip",
   "metadata": {
    "slideshow": {
     "slide_type": "fragment"
    }
   },
   "outputs": [],
   "source": [
    "typeof(B)"
   ]
  },
  {
   "cell_type": "markdown",
   "id": "mental-advisory",
   "metadata": {
    "slideshow": {
     "slide_type": "subslide"
    }
   },
   "source": [
    "## Useful `Array` Constructors\n",
    "\n",
    "1. `zeros()`\n",
    "2. `ones()`\n",
    "3. `falses()` and `trues()`\n",
    "3. `Array()`"
   ]
  },
  {
   "cell_type": "code",
   "execution_count": null,
   "id": "dying-monster",
   "metadata": {
    "slideshow": {
     "slide_type": "fragment"
    }
   },
   "outputs": [],
   "source": [
    "a = zeros(5)             # allocate array of zeros"
   ]
  },
  {
   "cell_type": "code",
   "execution_count": null,
   "id": "pointed-missouri",
   "metadata": {
    "slideshow": {
     "slide_type": "fragment"
    }
   },
   "outputs": [],
   "source": [
    "a = zeros(Int, (3, 2))  # allocate matrix of zeros"
   ]
  },
  {
   "cell_type": "code",
   "execution_count": null,
   "id": "alternate-exemption",
   "metadata": {
    "slideshow": {
     "slide_type": "fragment"
    }
   },
   "outputs": [],
   "source": [
    "b = ones((2, 3, 2))     # allocate 3-dimensional array of ones"
   ]
  },
  {
   "cell_type": "markdown",
   "id": "prescription-webcam",
   "metadata": {
    "slideshow": {
     "slide_type": "subslide"
    }
   },
   "source": [
    "### More Useful `Array` Constructors"
   ]
  },
  {
   "cell_type": "code",
   "execution_count": null,
   "id": "promotional-proposition",
   "metadata": {
    "slideshow": {
     "slide_type": "fragment"
    }
   },
   "outputs": [],
   "source": [
    "c = falses(3)              # allocated vector of falses"
   ]
  },
  {
   "cell_type": "code",
   "execution_count": null,
   "id": "fancy-football",
   "metadata": {
    "slideshow": {
     "slide_type": "fragment"
    }
   },
   "outputs": [],
   "source": [
    "d = trues((2, 4))          # allocate matrix of trues"
   ]
  },
  {
   "cell_type": "code",
   "execution_count": null,
   "id": "important-agenda",
   "metadata": {
    "slideshow": {
     "slide_type": "fragment"
    }
   },
   "outputs": [],
   "source": [
    "v = rand(3)                # allocated vector of uniform U(0, 1) random numbers"
   ]
  },
  {
   "cell_type": "code",
   "execution_count": null,
   "id": "refined-scholar",
   "metadata": {
    "slideshow": {
     "slide_type": "fragment"
    }
   },
   "outputs": [],
   "source": [
    "u = randn(2)              # allocated vector of std normal N(0, 1) random numbers"
   ]
  },
  {
   "cell_type": "markdown",
   "id": "linear-queue",
   "metadata": {
    "slideshow": {
     "slide_type": "slide"
    }
   },
   "source": [
    "# Indexing and Slicing `Arrays`\n",
    "\n",
    "  * Use familiar `[]` notation to index and slice\n",
    "  * Use 1-based indexing (like R, Matlab, Lua)\n",
    "  * Can use integers and booleans"
   ]
  },
  {
   "cell_type": "code",
   "execution_count": null,
   "id": "excited-complement",
   "metadata": {
    "slideshow": {
     "slide_type": "fragment"
    }
   },
   "outputs": [],
   "source": [
    "a = [\"cat\", \"dog\", \"fish\", \"shoe\"]      # allocated vector of strings"
   ]
  },
  {
   "cell_type": "code",
   "execution_count": null,
   "id": "electronic-evans",
   "metadata": {
    "slideshow": {
     "slide_type": "fragment"
    }
   },
   "outputs": [],
   "source": [
    "a[1]                                   # get first element"
   ]
  },
  {
   "cell_type": "code",
   "execution_count": null,
   "id": "exclusive-constraint",
   "metadata": {
    "slideshow": {
     "slide_type": "fragment"
    }
   },
   "outputs": [],
   "source": [
    "a[end]                                 # get last element"
   ]
  },
  {
   "cell_type": "code",
   "execution_count": null,
   "id": "effective-mention",
   "metadata": {
    "slideshow": {
     "slide_type": "fragment"
    }
   },
   "outputs": [],
   "source": [
    "a[2:3]                                 # get second through third element"
   ]
  },
  {
   "cell_type": "markdown",
   "id": "acoustic-blend",
   "metadata": {
    "slideshow": {
     "slide_type": "subslide"
    }
   },
   "source": [
    "### Slicing and Indexing with Booleans"
   ]
  },
  {
   "cell_type": "code",
   "execution_count": null,
   "id": "prepared-express",
   "metadata": {
    "slideshow": {
     "slide_type": "fragment"
    }
   },
   "outputs": [],
   "source": [
    "v = randn(5)                           # vector of draws from N(0, 1)"
   ]
  },
  {
   "cell_type": "code",
   "execution_count": null,
   "id": "joined-australia",
   "metadata": {
    "slideshow": {
     "slide_type": "fragment"
    }
   },
   "outputs": [],
   "source": [
    "v .> 0                                # which elements of v > 0      "
   ]
  },
  {
   "cell_type": "code",
   "execution_count": null,
   "id": "british-hours",
   "metadata": {
    "slideshow": {
     "slide_type": "fragment"
    }
   },
   "outputs": [],
   "source": [
    "v[v .> 0]                             # get elements of v > 0"
   ]
  },
  {
   "cell_type": "markdown",
   "id": "systematic-thompson",
   "metadata": {
    "slideshow": {
     "slide_type": "subslide"
    }
   },
   "source": [
    "## Indexing and Slicing 2-D `Array`\n",
    "\n",
    "  * Uses common `[row, column]` notation"
   ]
  },
  {
   "cell_type": "code",
   "execution_count": null,
   "id": "metric-camera",
   "metadata": {
    "slideshow": {
     "slide_type": "fragment"
    }
   },
   "outputs": [],
   "source": [
    "m = [\"apple\" \"kiwi\" \"pear\"; \"soup\" \"rice\" \"steak\"]"
   ]
  },
  {
   "cell_type": "code",
   "execution_count": null,
   "id": "critical-disease",
   "metadata": {
    "slideshow": {
     "slide_type": "fragment"
    }
   },
   "outputs": [],
   "source": [
    "m[1, 3]             # get element in first row, third column"
   ]
  },
  {
   "cell_type": "code",
   "execution_count": null,
   "id": "opened-gregory",
   "metadata": {
    "slideshow": {
     "slide_type": "fragment"
    }
   },
   "outputs": [],
   "source": [
    "m[:, 2]             # get all of second column"
   ]
  },
  {
   "cell_type": "code",
   "execution_count": null,
   "id": "circular-serve",
   "metadata": {
    "slideshow": {
     "slide_type": "fragment"
    }
   },
   "outputs": [],
   "source": [
    "m[1, :]             # get first row\n"
   ]
  },
  {
   "cell_type": "markdown",
   "id": "warming-wyoming",
   "metadata": {
    "slideshow": {
     "slide_type": "subslide"
    }
   },
   "source": [
    "# The `Tuple` Type\n",
    "  * Fixed-length\n",
    "  * Immutable\n",
    "  * Can hold hetergenous data"
   ]
  },
  {
   "cell_type": "code",
   "execution_count": null,
   "id": "constitutional-milwaukee",
   "metadata": {
    "slideshow": {
     "slide_type": "fragment"
    }
   },
   "outputs": [],
   "source": [
    "t = (3.14, \"soup\")             # create a tuple with 2 elements"
   ]
  },
  {
   "cell_type": "code",
   "execution_count": null,
   "id": "massive-plaza",
   "metadata": {
    "slideshow": {
     "slide_type": "fragment"
    }
   },
   "outputs": [],
   "source": [
    "t[2]"
   ]
  },
  {
   "cell_type": "code",
   "execution_count": null,
   "id": "international-advance",
   "metadata": {
    "slideshow": {
     "slide_type": "fragment"
    }
   },
   "outputs": [],
   "source": [
    "t[1] = 17                      # ERROR"
   ]
  },
  {
   "cell_type": "markdown",
   "id": "empty-wedding",
   "metadata": {
    "slideshow": {
     "slide_type": "slide"
    }
   },
   "source": [
    "## The `NamedTuple` Type\n"
   ]
  },
  {
   "cell_type": "code",
   "execution_count": null,
   "id": "elder-bosnia",
   "metadata": {
    "slideshow": {
     "slide_type": "fragment"
    }
   },
   "outputs": [],
   "source": [
    "z = (firstname = \"paul\", lastname = \"stey\", id = \"37\")"
   ]
  },
  {
   "cell_type": "code",
   "execution_count": null,
   "id": "compatible-virginia",
   "metadata": {
    "slideshow": {
     "slide_type": "fragment"
    }
   },
   "outputs": [],
   "source": [
    "typeof(z)"
   ]
  },
  {
   "cell_type": "code",
   "execution_count": null,
   "id": "choice-therapist",
   "metadata": {
    "slideshow": {
     "slide_type": "fragment"
    }
   },
   "outputs": [],
   "source": [
    "z.firstname                 # get element by its name"
   ]
  },
  {
   "cell_type": "code",
   "execution_count": null,
   "id": "incomplete-retention",
   "metadata": {
    "slideshow": {
     "slide_type": "fragment"
    }
   },
   "outputs": [],
   "source": [
    "z.id"
   ]
  },
  {
   "cell_type": "code",
   "execution_count": null,
   "id": "applicable-ground",
   "metadata": {
    "slideshow": {
     "slide_type": "fragment"
    }
   },
   "outputs": [],
   "source": [
    "z[1]                       # get element by index"
   ]
  },
  {
   "cell_type": "markdown",
   "id": "micro-angel",
   "metadata": {
    "slideshow": {
     "slide_type": "subslide"
    }
   },
   "source": [
    "# The `Set` Type"
   ]
  },
  {
   "cell_type": "code",
   "execution_count": null,
   "id": "solar-baking",
   "metadata": {
    "slideshow": {
     "slide_type": "fragment"
    }
   },
   "outputs": [],
   "source": [
    "s = Set([4, 5, 6])"
   ]
  },
  {
   "cell_type": "code",
   "execution_count": null,
   "id": "fossil-proportion",
   "metadata": {
    "slideshow": {
     "slide_type": "fragment"
    }
   },
   "outputs": [],
   "source": [
    "t = Set([5, 7, 11, 4, 6])"
   ]
  },
  {
   "cell_type": "code",
   "execution_count": null,
   "id": "taken-shannon",
   "metadata": {
    "slideshow": {
     "slide_type": "fragment"
    }
   },
   "outputs": [],
   "source": [
    "union(s, t)"
   ]
  },
  {
   "cell_type": "markdown",
   "id": "swiss-shanghai",
   "metadata": {
    "slideshow": {
     "slide_type": "subslide"
    }
   },
   "source": [
    "## More Operations on `Set` Types"
   ]
  },
  {
   "cell_type": "code",
   "execution_count": null,
   "id": "hired-excellence",
   "metadata": {
    "slideshow": {
     "slide_type": "fragment"
    }
   },
   "outputs": [],
   "source": [
    "intersect(s, t)                   # get set intersection"
   ]
  },
  {
   "cell_type": "code",
   "execution_count": null,
   "id": "regional-conference",
   "metadata": {},
   "outputs": [],
   "source": [
    "symdiff(s, t)                     # get symmetric differnce of sets"
   ]
  },
  {
   "cell_type": "markdown",
   "id": "floppy-surge",
   "metadata": {
    "slideshow": {
     "slide_type": "subslide"
    }
   },
   "source": [
    "## Even More Operations on `Set` Types"
   ]
  },
  {
   "cell_type": "code",
   "execution_count": null,
   "id": "young-jungle",
   "metadata": {
    "slideshow": {
     "slide_type": "fragment"
    }
   },
   "outputs": [],
   "source": [
    "s ∩ t                   # set intersection"
   ]
  },
  {
   "cell_type": "code",
   "execution_count": null,
   "id": "enormous-narrative",
   "metadata": {
    "slideshow": {
     "slide_type": "fragment"
    }
   },
   "outputs": [],
   "source": [
    "s ∪ t                   # union of sets"
   ]
  },
  {
   "cell_type": "code",
   "execution_count": null,
   "id": "satisfied-tiffany",
   "metadata": {
    "slideshow": {
     "slide_type": "fragment"
    }
   },
   "outputs": [],
   "source": [
    "s ⊆ t                  # check if s is subset of t"
   ]
  },
  {
   "cell_type": "code",
   "execution_count": null,
   "id": "received-hybrid",
   "metadata": {
    "slideshow": {
     "slide_type": "fragment"
    }
   },
   "outputs": [],
   "source": [
    "issubset(s, t)         # same as above"
   ]
  },
  {
   "cell_type": "markdown",
   "id": "stable-clock",
   "metadata": {
    "slideshow": {
     "slide_type": "subslide"
    }
   },
   "source": [
    "# The `Dict` Type\n",
    "\n",
    "  * Has \"keys\" and \"values\"\n",
    "  * \"associative\" container type\n",
    "  * Similar to `dict` in Python, `HashMap` in Rust, and `std::unordered_map` in C++"
   ]
  },
  {
   "cell_type": "code",
   "execution_count": null,
   "id": "tired-eleven",
   "metadata": {
    "slideshow": {
     "slide_type": "fragment"
    }
   },
   "outputs": [],
   "source": [
    "d = Dict(\"lee\" => 21, \"jones\" => 32)"
   ]
  },
  {
   "cell_type": "code",
   "execution_count": null,
   "id": "parental-comedy",
   "metadata": {
    "slideshow": {
     "slide_type": "fragment"
    }
   },
   "outputs": [],
   "source": [
    "d[\"lee\"]"
   ]
  },
  {
   "cell_type": "code",
   "execution_count": null,
   "id": "radical-dollar",
   "metadata": {
    "slideshow": {
     "slide_type": "fragment"
    }
   },
   "outputs": [],
   "source": [
    "d[\"smith\"] = 82"
   ]
  },
  {
   "cell_type": "code",
   "execution_count": null,
   "id": "sporting-interim",
   "metadata": {
    "slideshow": {
     "slide_type": "fragment"
    }
   },
   "outputs": [],
   "source": [
    "d[\"kim\"] = 12         # ERROR"
   ]
  },
  {
   "cell_type": "markdown",
   "id": "previous-irish",
   "metadata": {
    "slideshow": {
     "slide_type": "subslide"
    }
   },
   "source": [
    "# <center>End of Notebook</center>"
   ]
  }
 ],
 "metadata": {
  "@webio": {
   "lastCommId": null,
   "lastKernelId": null
  },
  "celltoolbar": "Slideshow",
  "kernelspec": {
   "display_name": "Julia 1.7.3",
   "language": "julia",
   "name": "julia-1.7"
  },
  "language_info": {
   "file_extension": ".jl",
   "mimetype": "application/julia",
   "name": "julia",
   "version": "1.7.3"
  }
 },
 "nbformat": 4,
 "nbformat_minor": 5
}

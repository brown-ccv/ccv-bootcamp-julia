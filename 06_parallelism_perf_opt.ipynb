{
 "cells": [
  {
   "cell_type": "markdown",
   "id": "purple-divide",
   "metadata": {
    "slideshow": {
     "slide_type": "slide"
    }
   },
   "source": [
    "# <center>Parallelism, Profiling, and Performance Optimization</center>\n",
    "\n",
    "### <center> Paul Stey & Mary McGrath</center>\n",
    "### <center> Brown University — Center for Computation \\& Visualization — `ccv.brown.edu`</center>\n",
    "\n",
    "<center><img src=ccv-logo-square.png height=\"300\" width=\"300\"></center>"
   ]
  },
  {
   "cell_type": "markdown",
   "id": "infinite-worship",
   "metadata": {
    "slideshow": {
     "slide_type": "slide"
    }
   },
   "source": [
    "# Challenge Problem 1\n",
    "\n",
    "Write a function that computes Fibonacci numbers. Given an integer, n, the function should return the n-th Fibonacci number.\n"
   ]
  },
  {
   "cell_type": "code",
   "execution_count": null,
   "id": "honey-investment",
   "metadata": {
    "slideshow": {
     "slide_type": "-"
    }
   },
   "outputs": [],
   "source": [
    "function fib(n)\n",
    "    # \n",
    "    # your code goes here\n",
    "    #\n",
    "\n",
    "end"
   ]
  },
  {
   "cell_type": "markdown",
   "id": "functional-theology",
   "metadata": {
    "slideshow": {
     "slide_type": "slide"
    }
   },
   "source": [
    "# Challenge Problem 2.\n",
    "Write a function, `count_chars()`, that takes an arrry of characters and returns a dictionary with counts for each how many times each character appeared in the array.\n"
   ]
  },
  {
   "cell_type": "code",
   "execution_count": 5,
   "id": "graphic-terrorist",
   "metadata": {
    "slideshow": {
     "slide_type": "-"
    }
   },
   "outputs": [
    {
     "data": {
      "text/plain": [
       "count_chars (generic function with 1 method)"
      ]
     },
     "execution_count": 5,
     "metadata": {},
     "output_type": "execute_result"
    }
   ],
   "source": [
    "using Random\n",
    "\n",
    "\n",
    "Random.seed!(137)\n",
    "\n",
    "v = rand(['a', 't', 'g', 'c'], 100_000_000)\n",
    "\n",
    "function count_chars()\n",
    "    #\n",
    "    # your code goes here\n",
    "    #\n",
    "    \n",
    "end "
   ]
  },
  {
   "cell_type": "markdown",
   "id": "protective-hungary",
   "metadata": {
    "slideshow": {
     "slide_type": "slide"
    }
   },
   "source": [
    "# Challenge Problem 3\n",
    "Write a function that, when given a matrix, `X`, of integers, will return a new matrix, `Y`, whose elements `Y[i, j]` will be boolean values indicating whether or not the element `X[i, j]` is prime. Note that you can either write your own prime-checking function or use the `isprime()` function in the Primes.jl package."
   ]
  },
  {
   "cell_type": "code",
   "execution_count": 3,
   "id": "consecutive-wales",
   "metadata": {
    "slideshow": {
     "slide_type": "fragment"
    }
   },
   "outputs": [
    {
     "data": {
      "text/plain": [
       "prime_status (generic function with 1 method)"
      ]
     },
     "execution_count": 3,
     "metadata": {},
     "output_type": "execute_result"
    }
   ],
   "source": [
    "using Primes\n",
    "\n",
    "\n",
    "Random.seed!(137)                     # set seed for reproducibility\n",
    "\n",
    "A = rand(1:100_000, 10_000, 10_000)\n",
    "\n",
    "function prime_status(mat)\n",
    "    #\n",
    "    # your code goes here \n",
    "    #\n",
    "    \n",
    "end"
   ]
  },
  {
   "cell_type": "markdown",
   "id": "ceramic-auction",
   "metadata": {
    "slideshow": {
     "slide_type": "slide"
    }
   },
   "source": [
    "# Challenge Problem 4.\n",
    "You are given 100,000-by-20,000 a matrix, `A`, and your task compute the means, standard deviations, and variances of each column in the matrix. The code below accomplishes this, but can be optimized in a few ways. The current version runs in about 11 seconds on a 8th generation Intel i9-8950HK CPU.\n"
   ]
  },
  {
   "cell_type": "code",
   "execution_count": 18,
   "id": "experienced-renaissance",
   "metadata": {
    "slideshow": {
     "slide_type": "-"
    }
   },
   "outputs": [],
   "source": [
    "using Statistics\n",
    "\n",
    "Random.seed!(137)\n",
    "\n",
    "A = rand(100_000, 20_000);"
   ]
  },
  {
   "cell_type": "code",
   "execution_count": 19,
   "id": "stunning-answer",
   "metadata": {
    "slideshow": {
     "slide_type": "-"
    }
   },
   "outputs": [
    {
     "data": {
      "text/plain": [
       "column_vars (generic function with 1 method)"
      ]
     },
     "execution_count": 19,
     "metadata": {},
     "output_type": "execute_result"
    }
   ],
   "source": [
    "function column_means(X)\n",
    "    means = Float64[]                # Initialize vector to store means\n",
    "\n",
    "    for j = 1:size(X, 2)\n",
    "        push!(means, mean(X[:, j]))\n",
    "    end\n",
    "    return means\n",
    "end\n",
    "\n",
    "function column_stdevs(X)\n",
    "    stdevs = Float64[]               # Initialize vector to store means\n",
    "\n",
    "    for j = 1:size(X, 2)\n",
    "        push!(stdevs, std(X[:, j]))\n",
    "    end\n",
    "    return stdevs\n",
    "end\n",
    "\n",
    "function column_vars(X)\n",
    "    vars = Float64[]                # Initialize vector to store variances\n",
    "    \n",
    "    for j = 1:size(X, 2)\n",
    "        push!(vars, var(X[:, j]))\n",
    "    end\n",
    "    return vars\n",
    "end"
   ]
  },
  {
   "cell_type": "code",
   "execution_count": null,
   "id": "atmospheric-commonwealth",
   "metadata": {
    "slideshow": {
     "slide_type": "-"
    }
   },
   "outputs": [],
   "source": [
    "t1 = time()\n",
    "res = hcat(column_means(A), column_stdevs(A), column_vars(A))\n",
    "println(time() - t1)"
   ]
  },
  {
   "cell_type": "markdown",
   "id": "decreased-tournament",
   "metadata": {
    "slideshow": {
     "slide_type": "slide"
    }
   },
   "source": [
    "# <center>End of Notebook</center>"
   ]
  }
 ],
 "metadata": {
  "@webio": {
   "lastCommId": null,
   "lastKernelId": null
  },
  "celltoolbar": "Slideshow",
  "kernelspec": {
   "display_name": "Julia 1.6.1",
   "language": "julia",
   "name": "julia-1.6"
  },
  "language_info": {
   "file_extension": ".jl",
   "mimetype": "application/julia",
   "name": "julia",
   "version": "1.6.1"
  }
 },
 "nbformat": 4,
 "nbformat_minor": 5
}

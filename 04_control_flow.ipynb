{
 "cells": [
  {
   "cell_type": "markdown",
   "id": "purple-divide",
   "metadata": {
    "slideshow": {
     "slide_type": "slide"
    }
   },
   "source": [
    "# <center>Control Flow using Loops and Branching</center>\n",
    "\n",
    "### <center> Paul Stey & Mary McGrath</center>\n",
    "### <center> Brown University — Center for Computation \\& Visualization — `ccv.brown.edu`</center>\n",
    "\n",
    "<center><img src=ccv-logo-square.png height=\"300\" width=\"300\"></center>"
   ]
  },
  {
   "cell_type": "markdown",
   "id": "fitted-damages",
   "metadata": {
    "slideshow": {
     "slide_type": "subslide"
    }
   },
   "source": [
    "# Outline\n",
    "\n",
    "  * Branching with `if`, `else`, `elseif` \n",
    "  * `for` and `while` loops\n",
    "  * Ternary operator"
   ]
  },
  {
   "cell_type": "markdown",
   "id": "protective-hungary",
   "metadata": {
    "slideshow": {
     "slide_type": "subslide"
    }
   },
   "source": [
    "# Branching with `if` and `else`"
   ]
  },
  {
   "cell_type": "code",
   "execution_count": null,
   "id": "needed-advance",
   "metadata": {
    "slideshow": {
     "slide_type": "fragment"
    }
   },
   "outputs": [],
   "source": [
    "a = 17\n",
    "\n",
    "if a < 0\n",
    "    println(\"a is negative!\")\n",
    "end"
   ]
  },
  {
   "cell_type": "code",
   "execution_count": null,
   "id": "consecutive-wales",
   "metadata": {
    "slideshow": {
     "slide_type": "fragment"
    }
   },
   "outputs": [],
   "source": [
    "if a < 0\n",
    "    println(\"a is negatvie!\")\n",
    "else \n",
    "    println(\"a is non-negative!\")\n",
    "end"
   ]
  },
  {
   "cell_type": "markdown",
   "id": "ceramic-auction",
   "metadata": {
    "slideshow": {
     "slide_type": "subslide"
    }
   },
   "source": [
    "### Branching with `if`, `else`, and `elseif`"
   ]
  },
  {
   "cell_type": "code",
   "execution_count": null,
   "id": "better-outreach",
   "metadata": {},
   "outputs": [],
   "source": [
    "b = 2.2\n",
    "\n",
    "if b < 0\n",
    "    println(\"b is negative\")\n",
    "elseif b < 1000\n",
    "    println(\"b is a small positive number\")\n",
    "else\n",
    "    println(\"b is a large number\")\n",
    "end"
   ]
  },
  {
   "cell_type": "markdown",
   "id": "foster-services",
   "metadata": {
    "slideshow": {
     "slide_type": "subslide"
    }
   },
   "source": [
    "# The `for` Loop"
   ]
  },
  {
   "cell_type": "code",
   "execution_count": null,
   "id": "executive-alexandria",
   "metadata": {
    "slideshow": {
     "slide_type": "fragment"
    }
   },
   "outputs": [],
   "source": [
    "for i in 1:5\n",
    "    println(i)\n",
    "end"
   ]
  },
  {
   "cell_type": "code",
   "execution_count": null,
   "id": "final-reaction",
   "metadata": {
    "slideshow": {
     "slide_type": "fragment"
    }
   },
   "outputs": [],
   "source": [
    "for i = 1:5               # alternate syntax, identical behavior\n",
    "    println(i)\n",
    "end"
   ]
  },
  {
   "cell_type": "markdown",
   "id": "flexible-tonight",
   "metadata": {
    "slideshow": {
     "slide_type": "subslide"
    }
   },
   "source": [
    "## More `for` Looping"
   ]
  },
  {
   "cell_type": "code",
   "execution_count": null,
   "id": "owned-search",
   "metadata": {
    "slideshow": {
     "slide_type": "fragment"
    }
   },
   "outputs": [],
   "source": [
    "items = [\"dog\", \"cat\", \"shoe\", \"potato\"]        # can iterate over arbitrary types\n",
    "\n",
    "for thing in items\n",
    "    println(thing)\n",
    "end"
   ]
  },
  {
   "cell_type": "code",
   "execution_count": null,
   "id": "norwegian-decade",
   "metadata": {
    "slideshow": {
     "slide_type": "fragment"
    }
   },
   "outputs": [],
   "source": [
    "for thing in items\n",
    "    if thing == \"dog\" || thing == \"cat\"\n",
    "        println(\"we love $(thing)s\")\n",
    "    end\n",
    "end"
   ]
  },
  {
   "cell_type": "markdown",
   "id": "global-crime",
   "metadata": {
    "slideshow": {
     "slide_type": "subslide"
    }
   },
   "source": [
    "## Exiting `for` Loop Early"
   ]
  },
  {
   "cell_type": "code",
   "execution_count": null,
   "id": "twelve-seeker",
   "metadata": {
    "slideshow": {
     "slide_type": "fragment"
    }
   },
   "outputs": [],
   "source": [
    "some_things = [1.8, 4, pi, \"potato\", 23, 10_000_000]"
   ]
  },
  {
   "cell_type": "code",
   "execution_count": null,
   "id": "arranged-edinburgh",
   "metadata": {
    "slideshow": {
     "slide_type": "fragment"
    }
   },
   "outputs": [],
   "source": [
    "for x in some_things\n",
    "    if !isa(x, Number)\n",
    "        println(\"Oh, no!!! $x is not numeric!\")\n",
    "        break\n",
    "    else\n",
    "        println(x)\n",
    "    end \n",
    "end"
   ]
  },
  {
   "cell_type": "markdown",
   "id": "geographic-investigation",
   "metadata": {
    "slideshow": {
     "slide_type": "subslide"
    }
   },
   "source": [
    "## Skipping an Iteration"
   ]
  },
  {
   "cell_type": "code",
   "execution_count": null,
   "id": "accredited-kenya",
   "metadata": {
    "slideshow": {
     "slide_type": "fragment"
    }
   },
   "outputs": [],
   "source": [
    "nums = 1:10\n",
    "\n",
    "for a in nums\n",
    "    if iseven(a)\n",
    "        continue\n",
    "    end\n",
    "    println(a) \n",
    "end"
   ]
  },
  {
   "cell_type": "markdown",
   "id": "regional-occasions",
   "metadata": {
    "slideshow": {
     "slide_type": "subslide"
    }
   },
   "source": [
    "# `while` Loop\n",
    "  * Same `break` and `continue` keywords for exiting and skipping"
   ]
  },
  {
   "cell_type": "code",
   "execution_count": null,
   "id": "bulgarian-louisiana",
   "metadata": {
    "slideshow": {
     "slide_type": "fragment"
    }
   },
   "outputs": [],
   "source": [
    "a = 13\n",
    "\n",
    "while a > 0\n",
    "    println(a)\n",
    "    a -= 1\n",
    "end"
   ]
  },
  {
   "cell_type": "markdown",
   "id": "neural-pleasure",
   "metadata": {
    "slideshow": {
     "slide_type": "subslide"
    }
   },
   "source": [
    "### Skipping Iterations in `while` Loop"
   ]
  },
  {
   "cell_type": "code",
   "execution_count": null,
   "id": "eleven-letter",
   "metadata": {
    "slideshow": {
     "slide_type": "fragment"
    }
   },
   "outputs": [],
   "source": [
    "a = 12\n",
    "\n",
    "while a > 0\n",
    "    a -= 1\n",
    "    if iseven(a)\n",
    "        continue\n",
    "    end\n",
    "    println(a)\n",
    "end"
   ]
  },
  {
   "cell_type": "markdown",
   "id": "decreased-tournament",
   "metadata": {
    "slideshow": {
     "slide_type": "slide"
    }
   },
   "source": [
    "# <center>End of Notebook</center>"
   ]
  }
 ],
 "metadata": {
  "@webio": {
   "lastCommId": null,
   "lastKernelId": null
  },
  "celltoolbar": "Slideshow",
  "kernelspec": {
   "display_name": "Julia 1.7.3",
   "language": "julia",
   "name": "julia-1.7"
  },
  "language_info": {
   "file_extension": ".jl",
   "mimetype": "application/julia",
   "name": "julia",
   "version": "1.7.3"
  }
 },
 "nbformat": 4,
 "nbformat_minor": 5
}

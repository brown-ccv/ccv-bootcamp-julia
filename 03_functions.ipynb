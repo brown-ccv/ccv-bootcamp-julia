{
 "cells": [
  {
   "cell_type": "markdown",
   "id": "purple-divide",
   "metadata": {
    "slideshow": {
     "slide_type": "slide"
    }
   },
   "source": [
    "# <center>Using and Defining Functions in Julia</center>\n",
    "\n",
    "### <center> Paul Stey & Mary McGrath</center>\n",
    "### <center> Brown University — Center for Computation \\& Visualization — `ccv.brown.edu`</center>\n",
    "\n",
    "<center><img src=ccv-logo-square.png height=\"300\" width=\"300\"></center>"
   ]
  },
  {
   "cell_type": "markdown",
   "id": "fitted-damages",
   "metadata": {
    "slideshow": {
     "slide_type": "subslide"
    }
   },
   "source": [
    "# Defining Fuctions\n",
    "\n",
    "  * Conventional block format and mathematical notation"
   ]
  },
  {
   "cell_type": "code",
   "execution_count": null,
   "id": "executive-alexandria",
   "metadata": {
    "slideshow": {
     "slide_type": "fragment"
    }
   },
   "outputs": [],
   "source": [
    "function add_one(n) \n",
    "    res = n + 1\n",
    "    return res \n",
    "end"
   ]
  },
  {
   "cell_type": "code",
   "execution_count": null,
   "id": "final-reaction",
   "metadata": {
    "slideshow": {
     "slide_type": "fragment"
    }
   },
   "outputs": [],
   "source": [
    "add_one(41)"
   ]
  },
  {
   "cell_type": "code",
   "execution_count": null,
   "id": "narrative-delay",
   "metadata": {
    "slideshow": {
     "slide_type": "fragment"
    }
   },
   "outputs": [],
   "source": [
    "f(x) = x + 1                "
   ]
  },
  {
   "cell_type": "code",
   "execution_count": null,
   "id": "owned-search",
   "metadata": {
    "slideshow": {
     "slide_type": "fragment"
    }
   },
   "outputs": [],
   "source": [
    "f(41)"
   ]
  },
  {
   "cell_type": "markdown",
   "id": "global-crime",
   "metadata": {
    "slideshow": {
     "slide_type": "subslide"
    }
   },
   "source": [
    "## Functions with Multiple Arguments"
   ]
  },
  {
   "cell_type": "code",
   "execution_count": null,
   "id": "twelve-seeker",
   "metadata": {
    "slideshow": {
     "slide_type": "fragment"
    }
   },
   "outputs": [],
   "source": [
    "function add_vals(a, b) \n",
    "    c = a + b\n",
    "    return c\n",
    "end "
   ]
  },
  {
   "cell_type": "code",
   "execution_count": null,
   "id": "arranged-edinburgh",
   "metadata": {
    "slideshow": {
     "slide_type": "fragment"
    }
   },
   "outputs": [],
   "source": [
    "add_vals(137, 42)"
   ]
  },
  {
   "cell_type": "code",
   "execution_count": null,
   "id": "classified-commonwealth",
   "metadata": {
    "slideshow": {
     "slide_type": "fragment"
    }
   },
   "outputs": [],
   "source": [
    "g(x, y) = x + y"
   ]
  },
  {
   "cell_type": "code",
   "execution_count": null,
   "id": "professional-investor",
   "metadata": {
    "slideshow": {
     "slide_type": "fragment"
    }
   },
   "outputs": [],
   "source": [
    "g(137, 42)"
   ]
  },
  {
   "cell_type": "markdown",
   "id": "geographic-investigation",
   "metadata": {
    "slideshow": {
     "slide_type": "subslide"
    }
   },
   "source": [
    "## Default Arguments"
   ]
  },
  {
   "cell_type": "code",
   "execution_count": null,
   "id": "accredited-kenya",
   "metadata": {
    "slideshow": {
     "slide_type": "fragment"
    }
   },
   "outputs": [],
   "source": [
    "function say_hi(name = \"world\")\n",
    "    println(\"Hello, $name\")\n",
    "end "
   ]
  },
  {
   "cell_type": "code",
   "execution_count": null,
   "id": "enhanced-frame",
   "metadata": {
    "slideshow": {
     "slide_type": "fragment"
    }
   },
   "outputs": [],
   "source": [
    "say_hi(\"Paul\")"
   ]
  },
  {
   "cell_type": "code",
   "execution_count": null,
   "id": "legislative-leather",
   "metadata": {
    "slideshow": {
     "slide_type": "fragment"
    }
   },
   "outputs": [],
   "source": [
    "say_hi()"
   ]
  },
  {
   "cell_type": "markdown",
   "id": "regional-occasions",
   "metadata": {
    "slideshow": {
     "slide_type": "subslide"
    }
   },
   "source": [
    "## Multiple Dispatch\n",
    "  * Conceptually similar to function overloading\n",
    "  * Can have several methods for a function\n",
    "    - Method tha is dispatched at run time is dependent on all function arguments and types"
   ]
  },
  {
   "cell_type": "code",
   "execution_count": null,
   "id": "bulgarian-louisiana",
   "metadata": {
    "slideshow": {
     "slide_type": "fragment"
    }
   },
   "outputs": [],
   "source": [
    "methods(say_hi)"
   ]
  },
  {
   "cell_type": "markdown",
   "id": "neural-pleasure",
   "metadata": {
    "slideshow": {
     "slide_type": "subslide"
    }
   },
   "source": [
    "### Adding Method to `say_hi()`"
   ]
  },
  {
   "cell_type": "code",
   "execution_count": null,
   "id": "after-wisdom",
   "metadata": {
    "slideshow": {
     "slide_type": "fragment"
    }
   },
   "outputs": [],
   "source": [
    "function say_hi(name1, name2)\n",
    "    println(\"Hello, $name1 and $name2\")\n",
    "end"
   ]
  },
  {
   "cell_type": "code",
   "execution_count": null,
   "id": "eleven-letter",
   "metadata": {
    "slideshow": {
     "slide_type": "fragment"
    }
   },
   "outputs": [],
   "source": [
    "say_hi(\"Mary\", \"Paul\")"
   ]
  },
  {
   "cell_type": "code",
   "execution_count": null,
   "id": "verbal-childhood",
   "metadata": {
    "slideshow": {
     "slide_type": "fragment"
    }
   },
   "outputs": [],
   "source": [
    "methods(say_hi)"
   ]
  },
  {
   "cell_type": "markdown",
   "id": "beneficial-greensboro",
   "metadata": {
    "slideshow": {
     "slide_type": "subslide"
    }
   },
   "source": [
    "# Specifying Return Type\n",
    "  * We can (optionally) specify the type returned by our functions\n",
    "  * Will perform cast, if one is possible, error otherwise"
   ]
  },
  {
   "cell_type": "code",
   "execution_count": null,
   "id": "timely-timer",
   "metadata": {
    "slideshow": {
     "slide_type": "fragment"
    }
   },
   "outputs": [],
   "source": [
    "function add_two(n)::Int8            # this function will return an Int8 type\n",
    "    res = n + 2\n",
    "    return res\n",
    "end "
   ]
  },
  {
   "cell_type": "code",
   "execution_count": null,
   "id": "closed-toyota",
   "metadata": {
    "slideshow": {
     "slide_type": "fragment"
    }
   },
   "outputs": [],
   "source": [
    "print(add_two(12))"
   ]
  },
  {
   "cell_type": "code",
   "execution_count": null,
   "id": "neural-presentation",
   "metadata": {
    "slideshow": {
     "slide_type": "fragment"
    }
   },
   "outputs": [],
   "source": [
    "typeof(add_two(12))"
   ]
  },
  {
   "cell_type": "code",
   "execution_count": null,
   "id": "specified-starter",
   "metadata": {
    "slideshow": {
     "slide_type": "fragment"
    }
   },
   "outputs": [],
   "source": [
    "typeof(add_two(15.0))"
   ]
  },
  {
   "cell_type": "markdown",
   "id": "diverse-transportation",
   "metadata": {
    "slideshow": {
     "slide_type": "subslide"
    }
   },
   "source": [
    "# Argument Types\n",
    "\n",
    "  * Beauty of multiple dispatch\n",
    "    - Can use type of arguments to determine the method that gets used"
   ]
  },
  {
   "cell_type": "code",
   "execution_count": null,
   "id": "governmental-bahrain",
   "metadata": {
    "slideshow": {
     "slide_type": "fragment"
    }
   },
   "outputs": [],
   "source": [
    "function do_math(a::Int, b::Int)                   # when args are ints, we add them\n",
    "    a + b\n",
    "end "
   ]
  },
  {
   "cell_type": "code",
   "execution_count": null,
   "id": "hindu-courtesy",
   "metadata": {
    "slideshow": {
     "slide_type": "fragment"
    }
   },
   "outputs": [],
   "source": [
    "function do_math(a::Float64, b::Float64)           # when args are floats, we exponentiate\n",
    "    a^b\n",
    "end "
   ]
  },
  {
   "cell_type": "code",
   "execution_count": null,
   "id": "persistent-corps",
   "metadata": {
    "slideshow": {
     "slide_type": "fragment"
    }
   },
   "outputs": [],
   "source": [
    "function do_math(a::String, b::String)             # when args are strings, celebrate!! \n",
    "    println(\"$a and $b love math!! Yaaayyyyy!!!\")\n",
    "end "
   ]
  },
  {
   "cell_type": "markdown",
   "id": "cardiovascular-eight",
   "metadata": {
    "slideshow": {
     "slide_type": "subslide"
    }
   },
   "source": [
    "## Argument Types (cont.)"
   ]
  },
  {
   "cell_type": "code",
   "execution_count": null,
   "id": "remarkable-singles",
   "metadata": {
    "slideshow": {
     "slide_type": "fragment"
    }
   },
   "outputs": [],
   "source": [
    "do_math(4, 2)"
   ]
  },
  {
   "cell_type": "code",
   "execution_count": null,
   "id": "patient-criticism",
   "metadata": {
    "slideshow": {
     "slide_type": "fragment"
    }
   },
   "outputs": [],
   "source": [
    "do_math(4.1, 2.1)"
   ]
  },
  {
   "cell_type": "code",
   "execution_count": null,
   "id": "complex-heather",
   "metadata": {
    "slideshow": {
     "slide_type": "fragment"
    }
   },
   "outputs": [],
   "source": [
    "do_math(\"mary\", \"paul\")"
   ]
  },
  {
   "cell_type": "code",
   "execution_count": null,
   "id": "hollywood-development",
   "metadata": {
    "slideshow": {
     "slide_type": "fragment"
    }
   },
   "outputs": [],
   "source": [
    "methods(do_math)"
   ]
  },
  {
   "cell_type": "markdown",
   "id": "decreased-tournament",
   "metadata": {
    "slideshow": {
     "slide_type": "slide"
    }
   },
   "source": [
    "# <center>End of Notebook</center>"
   ]
  }
 ],
 "metadata": {
  "celltoolbar": "Slideshow",
  "kernelspec": {
   "display_name": "Julia 1.6.1",
   "language": "julia",
   "name": "julia-1.6"
  },
  "language_info": {
   "file_extension": ".jl",
   "mimetype": "application/julia",
   "name": "julia",
   "version": "1.6.1"
  }
 },
 "nbformat": 4,
 "nbformat_minor": 5
}

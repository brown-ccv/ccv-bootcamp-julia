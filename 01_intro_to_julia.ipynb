{
 "cells": [
  {
   "cell_type": "markdown",
   "metadata": {
    "slideshow": {
     "slide_type": "slide"
    }
   },
   "source": [
    "# <center> Introduction to Julia Language</center>\n",
    "\n",
    "### <center> Paul Stey & Mary McGrath</center>\n",
    "### <center> Brown University — Center for Computation \\& Visualization — `ccv.brown.edu`</center>\n",
    "\n",
    "<center><img src=ccv-logo-square.png height=\"300\" width=\"300\"></center>"
   ]
  },
  {
   "cell_type": "markdown",
   "metadata": {
    "slideshow": {
     "slide_type": "slide"
    }
   },
   "source": [
    "## Outline \n",
    "\n",
    "1. Why Julia? \n",
    "2. Variables and Basic Types\n",
    "    * Type hierarchy, Concrete vs Abstract types\n",
    "3. Functions\n",
    "    * Overloading \n",
    "    * Multiple dispatch\n",
    "4. Control Flow\n",
    "    * Iteration and conditional branching\n",
    "5. Composite Types\n",
    "6. Performance and Parallelism\n",
    "7. Package Manager and Ecosystem\n",
    "    * Working with packages and environments"
   ]
  },
  {
   "cell_type": "markdown",
   "metadata": {
    "slideshow": {
     "slide_type": "subslide"
    }
   },
   "source": [
    "## Two-Language Problem\n",
    "  - Dynamic languages (e.g., Python, R, Matlab) tend to be slow\n",
    "  - Lower-level, compiled languages (e.g., C, C++, Fortran) are very fast, but are more time-consuming to write and debug "
   ]
  },
  {
   "cell_type": "markdown",
   "metadata": {
    "slideshow": {
     "slide_type": "subslide"
    }
   },
   "source": [
    " ## The Standard Approach \n",
    "   - Write core algorithms in lower-level language\n",
    "   - Then wrap that in higher-level language using some interface language/package (e.g., Cython, Rcpp)"
   ]
  },
  {
   "cell_type": "markdown",
   "metadata": {
    "slideshow": {
     "slide_type": "subslide"
    }
   },
   "source": [
    "## What's the Problem?\n",
    "  1. Higher barrier to entry for package authors\n",
    "  2. Package authors must know (at least) two languages\n",
    "  3. Creates a sharp divide between package authors and package users"
   ]
  },
  {
   "cell_type": "markdown",
   "metadata": {
    "slideshow": {
     "slide_type": "slide"
    }
   },
   "source": [
    "# <center> Meet Julia! </center>\n",
    "\n",
    "\n"
   ]
  },
  {
   "cell_type": "markdown",
   "metadata": {
    "slideshow": {
     "slide_type": "subslide"
    }
   },
   "source": [
    "## Julia is:\n",
    "1. Dynamic technical computing lanugage\n",
    "2. Multi-paradigm (functional, imperative, \"OO\"-ish)\n",
    "3. Just-in-time compiled using LLVM\n",
    "4. Under active development (current stable version: 1.6.1)\n",
    "5. Fast!\n",
    "6. Fun!"
   ]
  },
  {
   "cell_type": "markdown",
   "metadata": {
    "slideshow": {
     "slide_type": "subslide"
    }
   },
   "source": [
    "## History of Julia\n",
    "\n",
    "* Started in 2009 as PhD thesis of Jeff Bezanson at MIT\n",
    "* Jeff has been collaborating with Stefan Karpinski and Viral Shah\n",
    "* First official release in 2012\n",
    "* Influenced by: C, Python, R, Ruby, Lisp\n",
    "* Specifically designed to be as fast as C and as expressive as Python or Ruby"
   ]
  },
  {
   "cell_type": "markdown",
   "metadata": {
    "slideshow": {
     "slide_type": "subslide"
    }
   },
   "source": [
    "## Julia Basics\n",
    "- Similar to Python and R in that:\n",
    "  * Very flexible\n",
    "  * Has elements of imperative, functional, and object-oriented programming\n",
    "  * Functions are first-class citizens \n",
    "    + (e.g., pass as arguments, return from other functions)\n",
    " \n"
   ]
  },
  {
   "cell_type": "markdown",
   "metadata": {
    "slideshow": {
     "slide_type": "subslide"
    }
   },
   "source": [
    "## Julia Basics (cont.)\n",
    "- Differs from Python and R in that:\n",
    "  * Compiled, not interpretted\n",
    "  * Not object-oriented in the classical sense\n",
    "  * No classes with private data and private methods\n",
    "  * No concept of inheritence\n",
    "  * Designed with parallelism in mind\n",
    "  * Multiple dispatch\n",
    "  * Excellent for generic programming\n",
    "  * Metaprogramming"
   ]
  },
  {
   "cell_type": "markdown",
   "metadata": {
    "slideshow": {
     "slide_type": "subslide"
    }
   },
   "source": [
    "## Base Language Data Types\n",
    "\n",
    "1. Primitives\n",
    "  * Any numeric type you can imagine: `Int64`, `Float64`, `BigInt`, `Complex`, `Irrational`, `Rational`\n",
    "  * Many abstract types: `Any`, `Real`, `Number`, `Integer`\n",
    "  * `String` and `Chars`\n",
    "2. Container Types\n",
    "  * `Array` (vectors, matrices, _N_-dimensional arrays)\n",
    "  * `Set`\n",
    "  * `Dict`\n",
    "  * `Tuple` and `NamedTuple`\n",
    "3. Composite Types\n",
    "  * `struct`"
   ]
  },
  {
   "cell_type": "code",
   "execution_count": null,
   "metadata": {
    "slideshow": {
     "slide_type": "subslide"
    }
   },
   "outputs": [],
   "source": [
    "# Simple function that computes Fibonacci numbers\n",
    "\n",
    "function fib(n)\n",
    "    nums = ones(Int, n)\n",
    "    for i = 3:n\n",
    "        nums[i] = nums[i - 1] + nums[i - 2]\n",
    "    end \n",
    "    return nums[n]\n",
    "end     "
   ]
  },
  {
   "cell_type": "code",
   "execution_count": null,
   "metadata": {
    "slideshow": {
     "slide_type": "fragment"
    }
   },
   "outputs": [],
   "source": [
    "fib(30)"
   ]
  },
  {
   "cell_type": "markdown",
   "metadata": {
    "slideshow": {
     "slide_type": "subslide"
    }
   },
   "source": [
    "# <center>End of Notebook</center>"
   ]
  }
 ],
 "metadata": {
  "@webio": {
   "lastCommId": null,
   "lastKernelId": null
  },
  "celltoolbar": "Slideshow",
  "kernelspec": {
   "display_name": "Julia 1.6.1",
   "language": "julia",
   "name": "julia-1.6"
  },
  "language_info": {
   "file_extension": ".jl",
   "mimetype": "application/julia",
   "name": "julia",
   "version": "1.6.1"
  }
 },
 "nbformat": 4,
 "nbformat_minor": 2
}

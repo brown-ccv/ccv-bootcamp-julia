{
 "cells": [
  {
   "cell_type": "markdown",
   "id": "89d3359b",
   "metadata": {
    "slideshow": {
     "slide_type": "slide"
    }
   },
   "source": [
    "# <center> Introduction to Julia Language</center>\n",
    "\n",
    "### <center> Paul Stey</center>\n",
    "### <center> Brown University — Center for Computation \\& Visualization — `ccv.brown.edu`</center>\n",
    "\n",
    "<center><img src=ccv-logo-square.png height=\"300\" width=\"300\"></center>"
   ]
  },
  {
   "cell_type": "markdown",
   "id": "cc4c1a0f",
   "metadata": {
    "slideshow": {
     "slide_type": "-"
    }
   },
   "source": [
    "Repo: `https://github.com/brown-ccv/ccv-bootcamp-julia`\n",
    "\n",
    "JupyterHub: `https://ccv.jupyter.brown.edu`"
   ]
  },
  {
   "cell_type": "markdown",
   "id": "74372e2e",
   "metadata": {
    "slideshow": {
     "slide_type": "slide"
    }
   },
   "source": [
    "## Outline \n",
    "\n",
    "1. Why Julia? \n",
    "2. Variables and Basic Types\n",
    "    * Type hierarchy, Concrete vs Abstract types\n",
    "3. Functions\n",
    "    * Overloading \n",
    "    * Multiple dispatch\n",
    "4. Control Flow\n",
    "    * Iteration and conditional branching\n",
    "5. Composite Types\n",
    "6. Parallel Programming in Julia\n",
    "7. DataFrame Type\n"
   ]
  },
  {
   "cell_type": "markdown",
   "id": "fac2cce4",
   "metadata": {
    "slideshow": {
     "slide_type": "subslide"
    }
   },
   "source": [
    "## Two-Language Problem\n",
    "  - Dynamic languages (e.g., Python, R, Matlab) tend to be slow\n",
    "  - Lower-level, compiled languages (e.g., C, C++, Fortran) are very fast, but are more time-consuming to write and debug "
   ]
  },
  {
   "cell_type": "markdown",
   "id": "548b9497",
   "metadata": {
    "slideshow": {
     "slide_type": "subslide"
    }
   },
   "source": [
    " ## The Standard Approach \n",
    "   - Write core algorithms in lower-level language\n",
    "   - Then wrap that in higher-level language using some interface language/package (e.g., Cython, Rcpp)"
   ]
  },
  {
   "cell_type": "markdown",
   "id": "22182e34",
   "metadata": {
    "slideshow": {
     "slide_type": "subslide"
    }
   },
   "source": [
    "## What's the Problem?\n",
    "  1. Higher barrier to entry for package authors\n",
    "  2. Package authors must know (at least) two languages\n",
    "  3. Creates a sharp divide between package authors and package users"
   ]
  },
  {
   "cell_type": "markdown",
   "id": "5f243c61",
   "metadata": {
    "slideshow": {
     "slide_type": "slide"
    }
   },
   "source": [
    "# <center> Meet Julia! </center>\n",
    "\n",
    "\n"
   ]
  },
  {
   "cell_type": "markdown",
   "id": "60f459a2",
   "metadata": {
    "slideshow": {
     "slide_type": "subslide"
    }
   },
   "source": [
    "## Julia is:\n",
    "1. Dynamic technical computing lanugage\n",
    "2. Multi-paradigm (functional, imperative, \"OO\"-ish)\n",
    "3. Just-in-time compiled using LLVM\n",
    "4. Under active development (current stable version: 1.9.0)\n",
    "5. Fast!\n",
    "6. Fun!"
   ]
  },
  {
   "cell_type": "markdown",
   "id": "b0a5be9a",
   "metadata": {
    "slideshow": {
     "slide_type": "subslide"
    }
   },
   "source": [
    "## History of Julia\n",
    "\n",
    "* Started in 2009 as PhD thesis of Jeff Bezanson at MIT\n",
    "* Jeff has been collaborating with Stefan Karpinski and Viral Shah\n",
    "* First official release in 2012\n",
    "* Influenced by: C, Python, R, Ruby, Lisp\n",
    "* Specifically designed to be as fast as C and as expressive as Python or Ruby"
   ]
  },
  {
   "cell_type": "markdown",
   "id": "dc0f939e",
   "metadata": {
    "slideshow": {
     "slide_type": "subslide"
    }
   },
   "source": [
    "## Julia Basics\n",
    "- Similar to Python and R in that:\n",
    "  * Very flexible\n",
    "  * Has elements of imperative, functional, and object-oriented programming\n",
    "  * Functions are first-class citizens \n",
    "    + (e.g., pass as arguments, return from other functions)\n",
    " \n"
   ]
  },
  {
   "cell_type": "markdown",
   "id": "b779bd76",
   "metadata": {
    "slideshow": {
     "slide_type": "subslide"
    }
   },
   "source": [
    "## Julia Basics (cont.)\n",
    "- Differs from Python and R in that:\n",
    "  * Compiled, not interpretted\n",
    "  * Not object-oriented in the classical sense\n",
    "  * No classes with private data and private methods\n",
    "  * No concept of inheritence\n",
    "  * Designed with parallelism in mind\n",
    "  * Multiple dispatch\n",
    "  * Excellent for generic programming\n",
    "  * Metaprogramming"
   ]
  },
  {
   "cell_type": "markdown",
   "id": "e1ea674b",
   "metadata": {
    "slideshow": {
     "slide_type": "subslide"
    }
   },
   "source": [
    "## Base Language Data Types\n",
    "\n",
    "1. Primitives\n",
    "  * Any numeric type you can imagine: `Int64`, `Float64`, `BigInt`, `Complex`, `Irrational`, `Rational`\n",
    "  * Many abstract types: `Any`, `Real`, `Number`, `Integer`\n",
    "  * `String` and `Chars`\n",
    "2. Container Types\n",
    "  * `Array` (vectors, matrices, _N_-dimensional arrays)\n",
    "  * `Set`\n",
    "  * `Dict`\n",
    "  * `Tuple` and `NamedTuple`\n",
    "3. Composite Types\n",
    "  * `struct`"
   ]
  },
  {
   "cell_type": "code",
   "execution_count": null,
   "id": "490cb3a0",
   "metadata": {
    "slideshow": {
     "slide_type": "subslide"
    }
   },
   "outputs": [],
   "source": [
    "# Simple function that computes Fibonacci numbers\n",
    "\n",
    "function fib(n)\n",
    "    nums = ones(Int, n)\n",
    "    for i = 3:n\n",
    "        nums[i] = nums[i - 1] + nums[i - 2]\n",
    "    end \n",
    "    return nums[n]\n",
    "end     "
   ]
  },
  {
   "cell_type": "code",
   "execution_count": null,
   "id": "b95a6350",
   "metadata": {
    "slideshow": {
     "slide_type": "fragment"
    }
   },
   "outputs": [],
   "source": [
    "fib(5)"
   ]
  },
  {
   "cell_type": "markdown",
   "id": "unique-fancy",
   "metadata": {
    "slideshow": {
     "slide_type": "slide"
    }
   },
   "source": [
    "\n",
    "# Ways to Use Julia\n",
    "\n",
    "1. REPL\n",
    "2. `.jl` \"script\" file\n",
    "3. Jupyter Notebook\n",
    "4. VS Code with Plug-in\n"
   ]
  },
  {
   "cell_type": "markdown",
   "id": "plastic-aspect",
   "metadata": {
    "slideshow": {
     "slide_type": "slide"
    }
   },
   "source": [
    "# Numeric Variables"
   ]
  },
  {
   "cell_type": "code",
   "execution_count": null,
   "id": "prostate-assets",
   "metadata": {
    "slideshow": {
     "slide_type": "fragment"
    }
   },
   "outputs": [],
   "source": [
    "a = 42           # use `=` for variable assignment"
   ]
  },
  {
   "cell_type": "code",
   "execution_count": null,
   "id": "according-darwin",
   "metadata": {
    "slideshow": {
     "slide_type": "fragment"
    }
   },
   "outputs": [],
   "source": [
    "typeof(a)        # typeof() function gives us the type of a variable"
   ]
  },
  {
   "cell_type": "code",
   "execution_count": null,
   "id": "usual-former",
   "metadata": {
    "slideshow": {
     "slide_type": "fragment"
    }
   },
   "outputs": [],
   "source": [
    "b = 3.14        \n",
    "\n",
    "typeof(b)"
   ]
  },
  {
   "cell_type": "code",
   "execution_count": null,
   "id": "opposite-stock",
   "metadata": {
    "slideshow": {
     "slide_type": "fragment"
    }
   },
   "outputs": [],
   "source": [
    "c = UInt(37)\n",
    "\n",
    "typeof(c)"
   ]
  },
  {
   "cell_type": "markdown",
   "id": "junior-developer",
   "metadata": {
    "slideshow": {
     "slide_type": "slide"
    }
   },
   "source": [
    "# String and Character Variables"
   ]
  },
  {
   "cell_type": "code",
   "execution_count": null,
   "id": "elegant-serbia",
   "metadata": {
    "slideshow": {
     "slide_type": "fragment"
    }
   },
   "outputs": [],
   "source": [
    "s = \"hello, world\"\n",
    "\n",
    "typeof(s)"
   ]
  },
  {
   "cell_type": "code",
   "execution_count": null,
   "id": "chinese-beauty",
   "metadata": {
    "slideshow": {
     "slide_type": "fragment"
    }
   },
   "outputs": [],
   "source": [
    "c = 'f'\n",
    "\n",
    "typeof(c)"
   ]
  },
  {
   "cell_type": "code",
   "execution_count": null,
   "id": "military-safety",
   "metadata": {
    "slideshow": {
     "slide_type": "fragment"
    }
   },
   "outputs": [],
   "source": [
    "length(s)            # get string length"
   ]
  },
  {
   "cell_type": "markdown",
   "id": "published-indian",
   "metadata": {
    "slideshow": {
     "slide_type": "subslide"
    }
   },
   "source": [
    "## More String Operations"
   ]
  },
  {
   "cell_type": "code",
   "execution_count": null,
   "id": "binding-border",
   "metadata": {
    "slideshow": {
     "slide_type": "fragment"
    }
   },
   "outputs": [],
   "source": [
    "w = \"potato soup\"\n",
    "\n",
    "w[3]                      # index in to a string"
   ]
  },
  {
   "cell_type": "code",
   "execution_count": null,
   "id": "motivated-bacteria",
   "metadata": {
    "slideshow": {
     "slide_type": "fragment"
    }
   },
   "outputs": [],
   "source": [
    "w[1:6]                    # slice of a string"
   ]
  },
  {
   "cell_type": "code",
   "execution_count": null,
   "id": "minor-receptor",
   "metadata": {
    "slideshow": {
     "slide_type": "fragment"
    }
   },
   "outputs": [],
   "source": [
    "w[8:end]                  # use `end` for final element"
   ]
  },
  {
   "cell_type": "code",
   "execution_count": null,
   "id": "linear-prevention",
   "metadata": {
    "slideshow": {
     "slide_type": "fragment"
    }
   },
   "outputs": [],
   "source": [
    "dinner = \"cheesy \" * w    # string concatenation with `*`"
   ]
  },
  {
   "cell_type": "markdown",
   "id": "known-therapy",
   "metadata": {
    "slideshow": {
     "slide_type": "subslide"
    }
   },
   "source": [
    "### Even More String Operations"
   ]
  },
  {
   "cell_type": "code",
   "execution_count": null,
   "id": "classical-harvey",
   "metadata": {
    "slideshow": {
     "slide_type": "fragment"
    }
   },
   "outputs": [],
   "source": [
    "string(\"foo\", \"bar\")      # string concatenation with string()"
   ]
  },
  {
   "cell_type": "code",
   "execution_count": null,
   "id": "unnecessary-adobe",
   "metadata": {
    "slideshow": {
     "slide_type": "fragment"
    }
   },
   "outputs": [],
   "source": [
    "print(\"I love $a\")   # string interpolation with `$`"
   ]
  },
  {
   "cell_type": "markdown",
   "id": "reasonable-timber",
   "metadata": {
    "slideshow": {
     "slide_type": "subslide"
    }
   },
   "source": [
    "# Hiearchical Types and Shared Behavior"
   ]
  },
  {
   "cell_type": "markdown",
   "id": "american-reset",
   "metadata": {
    "slideshow": {
     "slide_type": "-"
    }
   },
   "source": [
    "![](images/type_system.png)"
   ]
  },
  {
   "cell_type": "markdown",
   "id": "forced-single",
   "metadata": {
    "slideshow": {
     "slide_type": "subslide"
    }
   },
   "source": [
    "## Testing for Subtype-ness"
   ]
  },
  {
   "cell_type": "code",
   "execution_count": null,
   "id": "numeric-career",
   "metadata": {
    "slideshow": {
     "slide_type": "fragment"
    }
   },
   "outputs": [],
   "source": [
    "UInt128 <: Integer"
   ]
  },
  {
   "cell_type": "code",
   "execution_count": null,
   "id": "posted-checkout",
   "metadata": {
    "slideshow": {
     "slide_type": "fragment"
    }
   },
   "outputs": [],
   "source": [
    "Float16 <: AbstractFloat"
   ]
  },
  {
   "cell_type": "code",
   "execution_count": null,
   "id": "limiting-providence",
   "metadata": {
    "slideshow": {
     "slide_type": "fragment"
    }
   },
   "outputs": [],
   "source": [
    "Real <: Rational"
   ]
  },
  {
   "cell_type": "code",
   "execution_count": null,
   "id": "rental-source",
   "metadata": {
    "slideshow": {
     "slide_type": "fragment"
    }
   },
   "outputs": [],
   "source": [
    "Rational <: Real"
   ]
  },
  {
   "cell_type": "markdown",
   "id": "widespread-planning",
   "metadata": {
    "slideshow": {
     "slide_type": "slide"
    }
   },
   "source": [
    "# Collection Types\n",
    "\n",
    "1. `Array` (and `Vector` and `Matrix`)\n",
    "2. `Tuple` (and `NamedTuple`)\n",
    "3. `Set`\n",
    "4. `Dict`"
   ]
  },
  {
   "cell_type": "markdown",
   "id": "color-costs",
   "metadata": {
    "slideshow": {
     "slide_type": "subslide"
    }
   },
   "source": [
    "## The `Array` Type"
   ]
  },
  {
   "cell_type": "code",
   "execution_count": null,
   "id": "suffering-conducting",
   "metadata": {
    "slideshow": {
     "slide_type": "fragment"
    }
   },
   "outputs": [],
   "source": [
    "a = [4, 3, 1]             # create 1-dimensional Array (i.e., Vector)"
   ]
  },
  {
   "cell_type": "code",
   "execution_count": null,
   "id": "funny-instrument",
   "metadata": {
    "slideshow": {
     "slide_type": "fragment"
    }
   },
   "outputs": [],
   "source": [
    "typeof(a)"
   ]
  },
  {
   "cell_type": "code",
   "execution_count": null,
   "id": "chicken-champion",
   "metadata": {
    "slideshow": {
     "slide_type": "fragment"
    }
   },
   "outputs": [],
   "source": [
    "B = [4 5 6; 1 2 3]       # create 2-dimensional Array (i.e., Matrix)"
   ]
  },
  {
   "cell_type": "code",
   "execution_count": null,
   "id": "significant-strip",
   "metadata": {
    "slideshow": {
     "slide_type": "fragment"
    }
   },
   "outputs": [],
   "source": [
    "typeof(B)"
   ]
  },
  {
   "cell_type": "markdown",
   "id": "mental-advisory",
   "metadata": {
    "slideshow": {
     "slide_type": "subslide"
    }
   },
   "source": [
    "## Useful `Array` Constructors\n",
    "\n",
    "1. `zeros()`\n",
    "2. `ones()`\n",
    "3. `falses()` and `trues()`\n",
    "3. `Array()`"
   ]
  },
  {
   "cell_type": "code",
   "execution_count": null,
   "id": "dying-monster",
   "metadata": {
    "slideshow": {
     "slide_type": "fragment"
    }
   },
   "outputs": [],
   "source": [
    "a = zeros(5)             # allocate array of zeros"
   ]
  },
  {
   "cell_type": "code",
   "execution_count": null,
   "id": "pointed-missouri",
   "metadata": {
    "slideshow": {
     "slide_type": "fragment"
    }
   },
   "outputs": [],
   "source": [
    "a = zeros(Int, (3, 2))  # allocate matrix of zeros"
   ]
  },
  {
   "cell_type": "code",
   "execution_count": null,
   "id": "alternate-exemption",
   "metadata": {
    "slideshow": {
     "slide_type": "fragment"
    }
   },
   "outputs": [],
   "source": [
    "b = ones((2, 3, 2))     # allocate 3-dimensional array of ones"
   ]
  },
  {
   "cell_type": "markdown",
   "id": "prescription-webcam",
   "metadata": {
    "slideshow": {
     "slide_type": "subslide"
    }
   },
   "source": [
    "### More Useful `Array` Constructors"
   ]
  },
  {
   "cell_type": "code",
   "execution_count": null,
   "id": "promotional-proposition",
   "metadata": {
    "slideshow": {
     "slide_type": "fragment"
    }
   },
   "outputs": [],
   "source": [
    "c = falses(3)              # allocated vector of falses"
   ]
  },
  {
   "cell_type": "code",
   "execution_count": null,
   "id": "fancy-football",
   "metadata": {
    "slideshow": {
     "slide_type": "fragment"
    }
   },
   "outputs": [],
   "source": [
    "d = trues((2, 4))          # allocate matrix of trues"
   ]
  },
  {
   "cell_type": "code",
   "execution_count": null,
   "id": "important-agenda",
   "metadata": {
    "slideshow": {
     "slide_type": "fragment"
    }
   },
   "outputs": [],
   "source": [
    "v = rand(3)                # allocated vector of uniform U(0, 1) random numbers"
   ]
  },
  {
   "cell_type": "code",
   "execution_count": null,
   "id": "refined-scholar",
   "metadata": {
    "slideshow": {
     "slide_type": "fragment"
    }
   },
   "outputs": [],
   "source": [
    "u = randn(2)              # allocated vector of std normal N(0, 1) random numbers"
   ]
  },
  {
   "cell_type": "markdown",
   "id": "linear-queue",
   "metadata": {
    "slideshow": {
     "slide_type": "slide"
    }
   },
   "source": [
    "# Indexing and Slicing `Arrays`\n",
    "\n",
    "  * Use familiar `[]` notation to index and slice\n",
    "  * Use 1-based indexing (like R, Matlab, Lua)\n",
    "  * Can use integers and booleans"
   ]
  },
  {
   "cell_type": "code",
   "execution_count": null,
   "id": "excited-complement",
   "metadata": {
    "slideshow": {
     "slide_type": "fragment"
    }
   },
   "outputs": [],
   "source": [
    "a = [\"cat\", \"dog\", \"fish\", \"shoe\"]      # allocated vector of strings"
   ]
  },
  {
   "cell_type": "code",
   "execution_count": null,
   "id": "electronic-evans",
   "metadata": {
    "slideshow": {
     "slide_type": "fragment"
    }
   },
   "outputs": [],
   "source": [
    "a[1]                                   # get first element"
   ]
  },
  {
   "cell_type": "code",
   "execution_count": null,
   "id": "exclusive-constraint",
   "metadata": {
    "slideshow": {
     "slide_type": "fragment"
    }
   },
   "outputs": [],
   "source": [
    "a[end]                                 # get last element"
   ]
  },
  {
   "cell_type": "code",
   "execution_count": null,
   "id": "effective-mention",
   "metadata": {
    "slideshow": {
     "slide_type": "fragment"
    }
   },
   "outputs": [],
   "source": [
    "a[2:3]                                 # get second through third element"
   ]
  },
  {
   "cell_type": "markdown",
   "id": "acoustic-blend",
   "metadata": {
    "slideshow": {
     "slide_type": "subslide"
    }
   },
   "source": [
    "### Slicing and Indexing with Booleans"
   ]
  },
  {
   "cell_type": "code",
   "execution_count": null,
   "id": "prepared-express",
   "metadata": {
    "slideshow": {
     "slide_type": "fragment"
    }
   },
   "outputs": [],
   "source": [
    "v = randn(5)                          # vector of draws from N(0, 1)"
   ]
  },
  {
   "cell_type": "code",
   "execution_count": null,
   "id": "joined-australia",
   "metadata": {
    "slideshow": {
     "slide_type": "fragment"
    }
   },
   "outputs": [],
   "source": [
    "v .> 0                                # which elements of v > 0      "
   ]
  },
  {
   "cell_type": "code",
   "execution_count": null,
   "id": "british-hours",
   "metadata": {
    "slideshow": {
     "slide_type": "fragment"
    }
   },
   "outputs": [],
   "source": [
    "v[v .> 0]                             # get elements of v > 0"
   ]
  },
  {
   "cell_type": "markdown",
   "id": "systematic-thompson",
   "metadata": {
    "slideshow": {
     "slide_type": "subslide"
    }
   },
   "source": [
    "## Indexing and Slicing 2-D `Array`\n",
    "\n",
    "  * Uses common `[row, column]` notation"
   ]
  },
  {
   "cell_type": "code",
   "execution_count": null,
   "id": "metric-camera",
   "metadata": {
    "slideshow": {
     "slide_type": "fragment"
    }
   },
   "outputs": [],
   "source": [
    "m = [\"apple\" \"kiwi\" \"pear\"; \n",
    "     \"soup\" \"rice\" \"steak\"]"
   ]
  },
  {
   "cell_type": "code",
   "execution_count": null,
   "id": "critical-disease",
   "metadata": {
    "slideshow": {
     "slide_type": "fragment"
    }
   },
   "outputs": [],
   "source": [
    "m[1, 3]             # get element in first row, third column"
   ]
  },
  {
   "cell_type": "code",
   "execution_count": null,
   "id": "opened-gregory",
   "metadata": {
    "slideshow": {
     "slide_type": "fragment"
    }
   },
   "outputs": [],
   "source": [
    "m[:, 2]             # get all of second column"
   ]
  },
  {
   "cell_type": "code",
   "execution_count": null,
   "id": "circular-serve",
   "metadata": {
    "slideshow": {
     "slide_type": "fragment"
    }
   },
   "outputs": [],
   "source": [
    "m[1, :]             # get first row\n"
   ]
  },
  {
   "cell_type": "markdown",
   "id": "fc5b3322",
   "metadata": {
    "slideshow": {
     "slide_type": "subslide"
    }
   },
   "source": [
    "### Accessing Last Element of Array\n",
    "\n",
    "* Can use `end` keyword to get last element in an array"
   ]
  },
  {
   "cell_type": "code",
   "execution_count": null,
   "id": "8dae8992",
   "metadata": {
    "slideshow": {
     "slide_type": "-"
    }
   },
   "outputs": [],
   "source": [
    "a = [\"cat\", \"dog\", \"fish\", \"shoe\"]  \n",
    "\n",
    "a[end]                      "
   ]
  },
  {
   "cell_type": "code",
   "execution_count": null,
   "id": "576e9684",
   "metadata": {
    "slideshow": {
     "slide_type": "-"
    }
   },
   "outputs": [],
   "source": [
    "a[end - 1]                 # get second-to-last element"
   ]
  },
  {
   "cell_type": "markdown",
   "id": "7cb8acbd",
   "metadata": {
    "slideshow": {
     "slide_type": "subslide"
    }
   },
   "source": [
    "## Adding Elements to an Array\n",
    "\n",
    "* Arrays in Julia are mutable types\n",
    "* We can use the `push!()` function to add an element to an array"
   ]
  },
  {
   "cell_type": "code",
   "execution_count": null,
   "id": "a85163f2",
   "metadata": {
    "slideshow": {
     "slide_type": "fragment"
    }
   },
   "outputs": [],
   "source": [
    "v = [23, 345, 4245]"
   ]
  },
  {
   "cell_type": "code",
   "execution_count": null,
   "id": "91bfe7cf",
   "metadata": {
    "slideshow": {
     "slide_type": "fragment"
    }
   },
   "outputs": [],
   "source": [
    "push!(v, 999)"
   ]
  },
  {
   "cell_type": "code",
   "execution_count": null,
   "id": "51ab0099",
   "metadata": {
    "slideshow": {
     "slide_type": "fragment"
    }
   },
   "outputs": [],
   "source": [
    "v"
   ]
  },
  {
   "cell_type": "markdown",
   "id": "warming-wyoming",
   "metadata": {
    "slideshow": {
     "slide_type": "subslide"
    }
   },
   "source": [
    "# The `Tuple` Type\n",
    "  * Fixed-length\n",
    "  * Immutable\n",
    "  * Can hold hetergenous data"
   ]
  },
  {
   "cell_type": "code",
   "execution_count": null,
   "id": "constitutional-milwaukee",
   "metadata": {
    "slideshow": {
     "slide_type": "fragment"
    }
   },
   "outputs": [],
   "source": [
    "t = (3.14, \"soup\")             # create a tuple with 2 elements"
   ]
  },
  {
   "cell_type": "code",
   "execution_count": null,
   "id": "massive-plaza",
   "metadata": {
    "slideshow": {
     "slide_type": "fragment"
    }
   },
   "outputs": [],
   "source": [
    "t[2]"
   ]
  },
  {
   "cell_type": "code",
   "execution_count": null,
   "id": "international-advance",
   "metadata": {
    "slideshow": {
     "slide_type": "fragment"
    }
   },
   "outputs": [],
   "source": [
    "t[1] = 17                      # ERROR"
   ]
  },
  {
   "cell_type": "markdown",
   "id": "empty-wedding",
   "metadata": {
    "slideshow": {
     "slide_type": "slide"
    }
   },
   "source": [
    "## The `NamedTuple` Type\n"
   ]
  },
  {
   "cell_type": "code",
   "execution_count": null,
   "id": "elder-bosnia",
   "metadata": {
    "slideshow": {
     "slide_type": "fragment"
    }
   },
   "outputs": [],
   "source": [
    "z = (firstname = \"paul\", lastname = \"stey\", id = \"37\")"
   ]
  },
  {
   "cell_type": "code",
   "execution_count": null,
   "id": "compatible-virginia",
   "metadata": {
    "slideshow": {
     "slide_type": "fragment"
    }
   },
   "outputs": [],
   "source": [
    "typeof(z)"
   ]
  },
  {
   "cell_type": "code",
   "execution_count": null,
   "id": "choice-therapist",
   "metadata": {
    "slideshow": {
     "slide_type": "fragment"
    }
   },
   "outputs": [],
   "source": [
    "z.firstname                 # get element by its name"
   ]
  },
  {
   "cell_type": "code",
   "execution_count": null,
   "id": "incomplete-retention",
   "metadata": {
    "slideshow": {
     "slide_type": "fragment"
    }
   },
   "outputs": [],
   "source": [
    "z.id"
   ]
  },
  {
   "cell_type": "code",
   "execution_count": null,
   "id": "applicable-ground",
   "metadata": {
    "slideshow": {
     "slide_type": "fragment"
    }
   },
   "outputs": [],
   "source": [
    "z[1]                       # get element by index"
   ]
  },
  {
   "cell_type": "markdown",
   "id": "micro-angel",
   "metadata": {
    "slideshow": {
     "slide_type": "subslide"
    }
   },
   "source": [
    "# The `Set` Type"
   ]
  },
  {
   "cell_type": "code",
   "execution_count": null,
   "id": "solar-baking",
   "metadata": {
    "slideshow": {
     "slide_type": "fragment"
    }
   },
   "outputs": [],
   "source": [
    "s = Set([4, 5, 6])"
   ]
  },
  {
   "cell_type": "code",
   "execution_count": null,
   "id": "fossil-proportion",
   "metadata": {
    "slideshow": {
     "slide_type": "fragment"
    }
   },
   "outputs": [],
   "source": [
    "t = Set([5, 7, 11, 4, 6])"
   ]
  },
  {
   "cell_type": "code",
   "execution_count": null,
   "id": "taken-shannon",
   "metadata": {
    "slideshow": {
     "slide_type": "fragment"
    }
   },
   "outputs": [],
   "source": [
    "union(s, t)"
   ]
  },
  {
   "cell_type": "markdown",
   "id": "swiss-shanghai",
   "metadata": {
    "slideshow": {
     "slide_type": "subslide"
    }
   },
   "source": [
    "## More Operations on `Set` Types"
   ]
  },
  {
   "cell_type": "code",
   "execution_count": null,
   "id": "hired-excellence",
   "metadata": {
    "slideshow": {
     "slide_type": "fragment"
    }
   },
   "outputs": [],
   "source": [
    "intersect(s, t)                   # get set intersection"
   ]
  },
  {
   "cell_type": "code",
   "execution_count": null,
   "id": "regional-conference",
   "metadata": {
    "slideshow": {
     "slide_type": "-"
    }
   },
   "outputs": [],
   "source": [
    "symdiff(s, t)                     # get symmetric differnce of sets"
   ]
  },
  {
   "cell_type": "markdown",
   "id": "floppy-surge",
   "metadata": {
    "slideshow": {
     "slide_type": "subslide"
    }
   },
   "source": [
    "## Even More Operations on `Set` Types"
   ]
  },
  {
   "cell_type": "code",
   "execution_count": null,
   "id": "young-jungle",
   "metadata": {
    "slideshow": {
     "slide_type": "fragment"
    }
   },
   "outputs": [],
   "source": [
    "s ∩ t                   # set intersection"
   ]
  },
  {
   "cell_type": "code",
   "execution_count": null,
   "id": "enormous-narrative",
   "metadata": {
    "slideshow": {
     "slide_type": "fragment"
    }
   },
   "outputs": [],
   "source": [
    "s ∪ t                   # union of sets"
   ]
  },
  {
   "cell_type": "code",
   "execution_count": null,
   "id": "satisfied-tiffany",
   "metadata": {
    "slideshow": {
     "slide_type": "fragment"
    }
   },
   "outputs": [],
   "source": [
    "s ⊆ t                  # check if s is subset of t"
   ]
  },
  {
   "cell_type": "code",
   "execution_count": null,
   "id": "received-hybrid",
   "metadata": {
    "slideshow": {
     "slide_type": "fragment"
    }
   },
   "outputs": [],
   "source": [
    "issubset(s, t)         # same as above"
   ]
  },
  {
   "cell_type": "markdown",
   "id": "stable-clock",
   "metadata": {
    "slideshow": {
     "slide_type": "subslide"
    }
   },
   "source": [
    "# The `Dict` Type\n",
    "\n",
    "  * Has \"keys\" and \"values\"\n",
    "  * \"associative\" container type\n",
    "  * Similar to `dict` in Python, `HashMap` in Rust, and `std::unordered_map` in C++"
   ]
  },
  {
   "cell_type": "code",
   "execution_count": null,
   "id": "tired-eleven",
   "metadata": {
    "slideshow": {
     "slide_type": "fragment"
    }
   },
   "outputs": [],
   "source": [
    "d = Dict(\"lee\" => 21, \"jones\" => 32)"
   ]
  },
  {
   "cell_type": "code",
   "execution_count": null,
   "id": "parental-comedy",
   "metadata": {
    "slideshow": {
     "slide_type": "fragment"
    }
   },
   "outputs": [],
   "source": [
    "d[\"lee\"]"
   ]
  },
  {
   "cell_type": "code",
   "execution_count": null,
   "id": "radical-dollar",
   "metadata": {
    "slideshow": {
     "slide_type": "fragment"
    }
   },
   "outputs": [],
   "source": [
    "d[\"smith\"] = 82"
   ]
  },
  {
   "cell_type": "code",
   "execution_count": null,
   "id": "sporting-interim",
   "metadata": {
    "slideshow": {
     "slide_type": "fragment"
    }
   },
   "outputs": [],
   "source": [
    "d[\"kim\"] = 12   "
   ]
  },
  {
   "cell_type": "markdown",
   "id": "fitted-damages",
   "metadata": {
    "slideshow": {
     "slide_type": "subslide"
    }
   },
   "source": [
    "# Defining Fuctions\n",
    "\n",
    "  * Conventional block format and mathematical notation"
   ]
  },
  {
   "cell_type": "code",
   "execution_count": null,
   "id": "executive-alexandria",
   "metadata": {
    "slideshow": {
     "slide_type": "fragment"
    }
   },
   "outputs": [],
   "source": [
    "function add_one(n) \n",
    "    res = n + 1\n",
    "    return res \n",
    "end"
   ]
  },
  {
   "cell_type": "code",
   "execution_count": null,
   "id": "final-reaction",
   "metadata": {
    "slideshow": {
     "slide_type": "fragment"
    }
   },
   "outputs": [],
   "source": [
    "add_one(41)"
   ]
  },
  {
   "cell_type": "code",
   "execution_count": null,
   "id": "narrative-delay",
   "metadata": {
    "slideshow": {
     "slide_type": "fragment"
    }
   },
   "outputs": [],
   "source": [
    "f(n) = 2n + 1                "
   ]
  },
  {
   "cell_type": "code",
   "execution_count": null,
   "id": "owned-search",
   "metadata": {
    "slideshow": {
     "slide_type": "fragment"
    }
   },
   "outputs": [],
   "source": [
    "f(41)"
   ]
  },
  {
   "cell_type": "markdown",
   "id": "global-crime",
   "metadata": {
    "slideshow": {
     "slide_type": "subslide"
    }
   },
   "source": [
    "## Functions with Multiple Arguments"
   ]
  },
  {
   "cell_type": "code",
   "execution_count": null,
   "id": "twelve-seeker",
   "metadata": {
    "slideshow": {
     "slide_type": "fragment"
    }
   },
   "outputs": [],
   "source": [
    "function add_vals(a, b) \n",
    "    c = a + b\n",
    "    return c\n",
    "end "
   ]
  },
  {
   "cell_type": "code",
   "execution_count": null,
   "id": "arranged-edinburgh",
   "metadata": {
    "slideshow": {
     "slide_type": "fragment"
    }
   },
   "outputs": [],
   "source": [
    "add_vals(137, 42)"
   ]
  },
  {
   "cell_type": "code",
   "execution_count": null,
   "id": "classified-commonwealth",
   "metadata": {
    "slideshow": {
     "slide_type": "fragment"
    }
   },
   "outputs": [],
   "source": [
    "g(x, y) = 2x + 3y"
   ]
  },
  {
   "cell_type": "code",
   "execution_count": null,
   "id": "professional-investor",
   "metadata": {
    "slideshow": {
     "slide_type": "fragment"
    }
   },
   "outputs": [],
   "source": [
    "g(137, 42)"
   ]
  },
  {
   "cell_type": "markdown",
   "id": "geographic-investigation",
   "metadata": {
    "slideshow": {
     "slide_type": "subslide"
    }
   },
   "source": [
    "## Default Arguments"
   ]
  },
  {
   "cell_type": "code",
   "execution_count": null,
   "id": "accredited-kenya",
   "metadata": {
    "slideshow": {
     "slide_type": "fragment"
    }
   },
   "outputs": [],
   "source": [
    "function say_hi(name = \"world\")\n",
    "    println(\"Hello, $name\")\n",
    "end "
   ]
  },
  {
   "cell_type": "code",
   "execution_count": null,
   "id": "enhanced-frame",
   "metadata": {
    "slideshow": {
     "slide_type": "fragment"
    }
   },
   "outputs": [],
   "source": [
    "say_hi(\"Paul\")"
   ]
  },
  {
   "cell_type": "code",
   "execution_count": null,
   "id": "legislative-leather",
   "metadata": {
    "slideshow": {
     "slide_type": "fragment"
    }
   },
   "outputs": [],
   "source": [
    "say_hi()"
   ]
  },
  {
   "cell_type": "markdown",
   "id": "regional-occasions",
   "metadata": {
    "slideshow": {
     "slide_type": "subslide"
    }
   },
   "source": [
    "## Multiple Dispatch\n",
    "  * Conceptually similar to function overloading\n",
    "  * Can have several methods for a function\n",
    "    - Method tha is dispatched at run time is dependent on all function arguments and types"
   ]
  },
  {
   "cell_type": "code",
   "execution_count": null,
   "id": "bulgarian-louisiana",
   "metadata": {
    "slideshow": {
     "slide_type": "fragment"
    }
   },
   "outputs": [],
   "source": [
    "methods(say_hi)"
   ]
  },
  {
   "cell_type": "markdown",
   "id": "neural-pleasure",
   "metadata": {
    "slideshow": {
     "slide_type": "subslide"
    }
   },
   "source": [
    "### Adding Method to `say_hi()`"
   ]
  },
  {
   "cell_type": "code",
   "execution_count": null,
   "id": "after-wisdom",
   "metadata": {
    "slideshow": {
     "slide_type": "fragment"
    }
   },
   "outputs": [],
   "source": [
    "function say_hi(name1, name2)\n",
    "    println(\"Hello, $name1 and $name2\")\n",
    "end"
   ]
  },
  {
   "cell_type": "code",
   "execution_count": null,
   "id": "eleven-letter",
   "metadata": {
    "slideshow": {
     "slide_type": "fragment"
    }
   },
   "outputs": [],
   "source": [
    "say_hi(\"Mary\", \"Paul\")"
   ]
  },
  {
   "cell_type": "code",
   "execution_count": null,
   "id": "verbal-childhood",
   "metadata": {
    "slideshow": {
     "slide_type": "fragment"
    }
   },
   "outputs": [],
   "source": [
    "methods(say_hi)"
   ]
  },
  {
   "cell_type": "markdown",
   "id": "beneficial-greensboro",
   "metadata": {
    "slideshow": {
     "slide_type": "subslide"
    }
   },
   "source": [
    "# Specifying Return Type\n",
    "  * We can (optionally) specify the type returned by our functions\n",
    "  * Will perform cast, if one is possible, error otherwise"
   ]
  },
  {
   "cell_type": "code",
   "execution_count": null,
   "id": "timely-timer",
   "metadata": {
    "slideshow": {
     "slide_type": "fragment"
    }
   },
   "outputs": [],
   "source": [
    "function add_two(n)::Int8            # this function will return an Int8 type\n",
    "    res = n + 2\n",
    "    return res\n",
    "end "
   ]
  },
  {
   "cell_type": "code",
   "execution_count": null,
   "id": "closed-toyota",
   "metadata": {
    "slideshow": {
     "slide_type": "fragment"
    }
   },
   "outputs": [],
   "source": [
    "print(add_two(12))"
   ]
  },
  {
   "cell_type": "code",
   "execution_count": null,
   "id": "neural-presentation",
   "metadata": {
    "slideshow": {
     "slide_type": "fragment"
    }
   },
   "outputs": [],
   "source": [
    "typeof(add_two(12))"
   ]
  },
  {
   "cell_type": "code",
   "execution_count": null,
   "id": "specified-starter",
   "metadata": {
    "slideshow": {
     "slide_type": "fragment"
    }
   },
   "outputs": [],
   "source": [
    "typeof(add_two(15.0))"
   ]
  },
  {
   "cell_type": "markdown",
   "id": "diverse-transportation",
   "metadata": {
    "slideshow": {
     "slide_type": "subslide"
    }
   },
   "source": [
    "# Argument Types\n",
    "\n",
    "  * Beauty of multiple dispatch\n",
    "    - Can use type of arguments to determine the method that gets used"
   ]
  },
  {
   "cell_type": "code",
   "execution_count": null,
   "id": "governmental-bahrain",
   "metadata": {
    "slideshow": {
     "slide_type": "fragment"
    }
   },
   "outputs": [],
   "source": [
    "function do_math(a::Int, b::Int)                   # when args are ints, we add them\n",
    "    a + b\n",
    "end "
   ]
  },
  {
   "cell_type": "code",
   "execution_count": null,
   "id": "hindu-courtesy",
   "metadata": {
    "slideshow": {
     "slide_type": "fragment"
    }
   },
   "outputs": [],
   "source": [
    "function do_math(a::Float64, b::Float64)           # when args are floats, we exponentiate\n",
    "    a^b\n",
    "end "
   ]
  },
  {
   "cell_type": "code",
   "execution_count": null,
   "id": "persistent-corps",
   "metadata": {
    "slideshow": {
     "slide_type": "fragment"
    }
   },
   "outputs": [],
   "source": [
    "function do_math(a::String, b::String)             # when args are strings, celebrate!! \n",
    "    println(\"$a and $b love math!! Yaaayyyyy!!!\")\n",
    "end "
   ]
  },
  {
   "cell_type": "markdown",
   "id": "cardiovascular-eight",
   "metadata": {
    "slideshow": {
     "slide_type": "subslide"
    }
   },
   "source": [
    "## Argument Types (cont.)"
   ]
  },
  {
   "cell_type": "code",
   "execution_count": null,
   "id": "remarkable-singles",
   "metadata": {
    "slideshow": {
     "slide_type": "fragment"
    }
   },
   "outputs": [],
   "source": [
    "do_math(4, 2)"
   ]
  },
  {
   "cell_type": "code",
   "execution_count": null,
   "id": "patient-criticism",
   "metadata": {
    "slideshow": {
     "slide_type": "fragment"
    }
   },
   "outputs": [],
   "source": [
    "do_math(4.1, 2.1)"
   ]
  },
  {
   "cell_type": "code",
   "execution_count": null,
   "id": "complex-heather",
   "metadata": {
    "slideshow": {
     "slide_type": "fragment"
    }
   },
   "outputs": [],
   "source": [
    "do_math(\"carlos\", \"paul\")"
   ]
  },
  {
   "cell_type": "code",
   "execution_count": null,
   "id": "hollywood-development",
   "metadata": {
    "slideshow": {
     "slide_type": "fragment"
    }
   },
   "outputs": [],
   "source": [
    "methods(do_math)"
   ]
  },
  {
   "cell_type": "markdown",
   "id": "protective-hungary",
   "metadata": {
    "slideshow": {
     "slide_type": "subslide"
    }
   },
   "source": [
    "# Branching with `if` and `else`"
   ]
  },
  {
   "cell_type": "code",
   "execution_count": null,
   "id": "needed-advance",
   "metadata": {
    "slideshow": {
     "slide_type": "fragment"
    }
   },
   "outputs": [],
   "source": [
    "a = 17\n",
    "\n",
    "if a < 0\n",
    "    println(\"a is negative!\")\n",
    "end"
   ]
  },
  {
   "cell_type": "code",
   "execution_count": null,
   "id": "consecutive-wales",
   "metadata": {
    "slideshow": {
     "slide_type": "fragment"
    }
   },
   "outputs": [],
   "source": [
    "if a < 0\n",
    "    println(\"a is negatvie!\")\n",
    "else \n",
    "    println(\"a is non-negative!\")\n",
    "end"
   ]
  },
  {
   "cell_type": "markdown",
   "id": "ceramic-auction",
   "metadata": {
    "slideshow": {
     "slide_type": "subslide"
    }
   },
   "source": [
    "### Branching with `if`, `else`, and `elseif`"
   ]
  },
  {
   "cell_type": "code",
   "execution_count": null,
   "id": "better-outreach",
   "metadata": {
    "slideshow": {
     "slide_type": "-"
    }
   },
   "outputs": [],
   "source": [
    "b = 2.2\n",
    "\n",
    "if b < 0\n",
    "    println(\"b is negative\")\n",
    "elseif b < 1000\n",
    "    println(\"b is a small positive number\")\n",
    "else\n",
    "    println(\"b is a large number\")\n",
    "end"
   ]
  },
  {
   "cell_type": "markdown",
   "id": "foster-services",
   "metadata": {
    "slideshow": {
     "slide_type": "subslide"
    }
   },
   "source": [
    "# The `for` Loop"
   ]
  },
  {
   "cell_type": "code",
   "execution_count": null,
   "id": "bf78ea99",
   "metadata": {
    "slideshow": {
     "slide_type": "fragment"
    }
   },
   "outputs": [],
   "source": [
    "for i in 1:5\n",
    "    println(i)\n",
    "end"
   ]
  },
  {
   "cell_type": "code",
   "execution_count": null,
   "id": "a9f67090",
   "metadata": {
    "slideshow": {
     "slide_type": "fragment"
    }
   },
   "outputs": [],
   "source": [
    "for i = 1:5               # alternate syntax, identical behavior\n",
    "    println(i)\n",
    "end"
   ]
  },
  {
   "cell_type": "markdown",
   "id": "flexible-tonight",
   "metadata": {
    "slideshow": {
     "slide_type": "subslide"
    }
   },
   "source": [
    "## More `for` Looping"
   ]
  },
  {
   "cell_type": "code",
   "execution_count": null,
   "id": "40dd9709",
   "metadata": {
    "slideshow": {
     "slide_type": "fragment"
    }
   },
   "outputs": [],
   "source": [
    "items = [\"dog\", \"cat\", \"shoe\", \"potato\"]        # can iterate over arbitrary types\n",
    "\n",
    "for thing in items\n",
    "    println(thing)\n",
    "end"
   ]
  },
  {
   "cell_type": "code",
   "execution_count": null,
   "id": "norwegian-decade",
   "metadata": {
    "slideshow": {
     "slide_type": "fragment"
    }
   },
   "outputs": [],
   "source": [
    "for thing in items\n",
    "    if thing == \"dog\" || thing == \"cat\"\n",
    "        println(\"we love $(thing)s\")\n",
    "    end\n",
    "end"
   ]
  },
  {
   "cell_type": "markdown",
   "id": "b65c3c01",
   "metadata": {
    "slideshow": {
     "slide_type": "subslide"
    }
   },
   "source": [
    "## Exiting `for` Loop Early"
   ]
  },
  {
   "cell_type": "code",
   "execution_count": null,
   "id": "4d0ed172",
   "metadata": {
    "slideshow": {
     "slide_type": "fragment"
    }
   },
   "outputs": [],
   "source": [
    "some_things = [1.8, 4, pi, \"potato\", 23, 10_000_000]"
   ]
  },
  {
   "cell_type": "code",
   "execution_count": null,
   "id": "a4d01f37",
   "metadata": {
    "slideshow": {
     "slide_type": "fragment"
    }
   },
   "outputs": [],
   "source": [
    "for x in some_things\n",
    "    if !isa(x, Number)\n",
    "        println(\"Oh, no!!! $x is not numeric!\")\n",
    "        break\n",
    "    else\n",
    "        println(x)\n",
    "    end \n",
    "end"
   ]
  },
  {
   "cell_type": "markdown",
   "id": "93d74a2d",
   "metadata": {
    "slideshow": {
     "slide_type": "subslide"
    }
   },
   "source": [
    "## Skipping an Iteration"
   ]
  },
  {
   "cell_type": "code",
   "execution_count": null,
   "id": "1defd06c",
   "metadata": {
    "slideshow": {
     "slide_type": "fragment"
    }
   },
   "outputs": [],
   "source": [
    "nums = 1:10\n",
    "\n",
    "for a in nums\n",
    "    if iseven(a)\n",
    "        continue\n",
    "    end\n",
    "    println(a) \n",
    "end"
   ]
  },
  {
   "cell_type": "markdown",
   "id": "10acff3f",
   "metadata": {
    "slideshow": {
     "slide_type": "subslide"
    }
   },
   "source": [
    "# `while` Loop\n",
    "  * Same `break` and `continue` keywords for exiting and skipping"
   ]
  },
  {
   "cell_type": "code",
   "execution_count": null,
   "id": "4f5ca78b",
   "metadata": {
    "slideshow": {
     "slide_type": "fragment"
    }
   },
   "outputs": [],
   "source": [
    "a = 13\n",
    "\n",
    "while a > 0\n",
    "    println(a)\n",
    "    a -= 1\n",
    "end"
   ]
  },
  {
   "cell_type": "markdown",
   "id": "18de5422",
   "metadata": {
    "slideshow": {
     "slide_type": "subslide"
    }
   },
   "source": [
    "### Skipping Iterations in `while` Loop"
   ]
  },
  {
   "cell_type": "code",
   "execution_count": null,
   "id": "7a42eabb",
   "metadata": {
    "slideshow": {
     "slide_type": "fragment"
    }
   },
   "outputs": [],
   "source": [
    "a = 12\n",
    "\n",
    "while a > 0\n",
    "    a -= 1\n",
    "    if iseven(a)\n",
    "        continue\n",
    "    end\n",
    "    println(a)\n",
    "end"
   ]
  },
  {
   "cell_type": "markdown",
   "id": "41d5a85d",
   "metadata": {
    "slideshow": {
     "slide_type": "slide"
    }
   },
   "source": [
    "<center><h1>Challenge Problem 1</h1></center>\n",
    "\n",
    "\n",
    "The Collatz Conjecture is a mathematical conjecture named after Lothar Collatz, who first proposed it in 1937. It's a simple sequence that starts with any positive integer. Here's how it works:\n",
    "\n",
    "1. Start with any positive integer $n$.\n",
    "2. If $n$ is even, divide it by $2$ to get $n/2$.\n",
    "3. If $n$ is odd, multiply it by $3$ and add $1$ to get $3n + 1$.\n",
    "4. Repeat the process indefinitely (or until you arrive at 1) for the resulting values.\n",
    "\n",
    "The Collatz Conjecture states that no matter what number you start with, eventually you will reach 1. Despite its simplicity, the conjecture is unsolved and is a famous problem in the field of number theory. \n",
    "\n",
    "Write a function that generates Collatz sequences. Our function should accept a single argument called `start`, which represents the starting value. Our function should return a vector representing the Collatz sequence generated by that starting value.\n",
    "\n",
    "**Hint**: You will likely want to use a `while` loop, and do some branching with `if` and `else`. Also recall you can use `push!()` to append to an array in Julia."
   ]
  },
  {
   "cell_type": "code",
   "execution_count": null,
   "id": "645465fb",
   "metadata": {
    "slideshow": {
     "slide_type": "-"
    }
   },
   "outputs": [],
   "source": [
    "function collatz_sequence(start) \n",
    "    # put more code here...\n",
    "\n",
    "\n",
    "end "
   ]
  },
  {
   "cell_type": "code",
   "execution_count": null,
   "id": "94230acf",
   "metadata": {
    "slideshow": {
     "slide_type": "-"
    }
   },
   "outputs": [],
   "source": [
    "# When our function is correct, these three tests should pass (i.e., be silent)\n",
    "\n",
    "@assert [1] == collatz_sequence(1)\n",
    "@assert [5, 16, 8, 4, 2, 1] == collatz_sequence(5)\n",
    "@assert [10, 5, 16, 8, 4, 2, 1] == collatz_sequence(10)"
   ]
  },
  {
   "cell_type": "markdown",
   "id": "82f67f40",
   "metadata": {
    "slideshow": {
     "slide_type": "subslide"
    }
   },
   "source": [
    "# User-Defined Types\n",
    "\n",
    "1. User can define composite types (i.e., `struct`s)\n",
    "2. A `struct` can be mutable or immutable\n",
    "3. Immutable `struct`s are allocated on stack, mutable are on the heap"
   ]
  },
  {
   "cell_type": "code",
   "execution_count": null,
   "id": "115a81f6",
   "metadata": {
    "slideshow": {
     "slide_type": "subslide"
    }
   },
   "outputs": [],
   "source": [
    "struct Foo\n",
    "    bar\n",
    "    baz::Int\n",
    "    qux::Float64\n",
    "end"
   ]
  },
  {
   "cell_type": "code",
   "execution_count": null,
   "id": "310b24fe",
   "metadata": {
    "slideshow": {
     "slide_type": "fragment"
    }
   },
   "outputs": [],
   "source": [
    "foo = Foo(\"Hello, world.\", 23, 1.5)"
   ]
  },
  {
   "cell_type": "code",
   "execution_count": null,
   "id": "121de0d4",
   "metadata": {
    "slideshow": {
     "slide_type": "fragment"
    }
   },
   "outputs": [],
   "source": [
    "typeof(foo)"
   ]
  },
  {
   "cell_type": "code",
   "execution_count": null,
   "id": "81431a9e",
   "metadata": {
    "slideshow": {
     "slide_type": "-"
    }
   },
   "outputs": [],
   "source": [
    "fieldnames(Foo)"
   ]
  },
  {
   "cell_type": "markdown",
   "id": "f25198a4",
   "metadata": {
    "slideshow": {
     "slide_type": "subslide"
    }
   },
   "source": [
    "## Accessing Fields of a `struct`"
   ]
  },
  {
   "cell_type": "code",
   "execution_count": null,
   "id": "76bfb831",
   "metadata": {
    "slideshow": {
     "slide_type": "-"
    }
   },
   "outputs": [],
   "source": [
    "foo.bar"
   ]
  },
  {
   "cell_type": "code",
   "execution_count": null,
   "id": "95ac1962",
   "metadata": {
    "slideshow": {
     "slide_type": "-"
    }
   },
   "outputs": [],
   "source": [
    "foo.baz"
   ]
  },
  {
   "cell_type": "code",
   "execution_count": null,
   "id": "eccf0f73",
   "metadata": {
    "slideshow": {
     "slide_type": "-"
    }
   },
   "outputs": [],
   "source": [
    "foo.qux"
   ]
  },
  {
   "cell_type": "markdown",
   "id": "d5798061",
   "metadata": {
    "slideshow": {
     "slide_type": "subslide"
    }
   },
   "source": [
    "## Immutable by Default"
   ]
  },
  {
   "cell_type": "code",
   "execution_count": null,
   "id": "969862af",
   "metadata": {
    "slideshow": {
     "slide_type": "-"
    }
   },
   "outputs": [],
   "source": [
    "foo.bar = \"Will this work?\"  # Nope!"
   ]
  },
  {
   "cell_type": "code",
   "execution_count": null,
   "id": "b86daeaa",
   "metadata": {
    "slideshow": {
     "slide_type": "-"
    }
   },
   "outputs": [],
   "source": [
    "Foo((), 23.5, 1)            # ERROR second element must be and Int"
   ]
  },
  {
   "cell_type": "markdown",
   "id": "9b326979",
   "metadata": {
    "slideshow": {
     "slide_type": "subslide"
    }
   },
   "source": [
    "## Creating Mutable `struct`"
   ]
  },
  {
   "cell_type": "code",
   "execution_count": null,
   "id": "aba329b1",
   "metadata": {
    "slideshow": {
     "slide_type": "-"
    }
   },
   "outputs": [],
   "source": [
    "mutable struct Bar\n",
    "    baz\n",
    "    qux::Float64\n",
    "end\n"
   ]
  },
  {
   "cell_type": "code",
   "execution_count": null,
   "id": "167c969b",
   "metadata": {
    "slideshow": {
     "slide_type": "-"
    }
   },
   "outputs": [],
   "source": [
    "bar = Bar(\"Hello\", 1.5);\n",
    "println(bar)\n",
    "\n",
    "bar.qux = 2.0\n",
    "println(bar)\n",
    "\n",
    "bar.baz = 1//2\n",
    "println(bar)"
   ]
  },
  {
   "cell_type": "markdown",
   "id": "2fa97ab2",
   "metadata": {
    "slideshow": {
     "slide_type": "subslide"
    }
   },
   "source": [
    "## Constructors for a `struct`"
   ]
  },
  {
   "cell_type": "code",
   "execution_count": null,
   "id": "0ec731d1",
   "metadata": {
    "slideshow": {
     "slide_type": "-"
    }
   },
   "outputs": [],
   "source": [
    "struct Square \n",
    "    height::Int\n",
    "    width::Int\n",
    "    area::Int\n",
    "    \n",
    "    function Square(h, w)\n",
    "        a = h * w\n",
    "        \n",
    "        return new(h, w, a)\n",
    "    end \n",
    "end \n",
    "\n"
   ]
  },
  {
   "cell_type": "code",
   "execution_count": null,
   "id": "fed9fc3a",
   "metadata": {
    "slideshow": {
     "slide_type": "fragment"
    }
   },
   "outputs": [],
   "source": [
    "sq = Square(5, 3)"
   ]
  },
  {
   "cell_type": "markdown",
   "id": "75b7931d",
   "metadata": {
    "slideshow": {
     "slide_type": "subslide"
    }
   },
   "source": [
    "## Operator Overloading\n",
    "\n",
    "+ Can overload base language's operators (e.g., `+`, `*`, `/`)"
   ]
  },
  {
   "cell_type": "code",
   "execution_count": null,
   "id": "87026992",
   "metadata": {
    "slideshow": {
     "slide_type": "-"
    }
   },
   "outputs": [],
   "source": [
    "struct Circle{T}\n",
    "    x::T\n",
    "    y::T\n",
    "    radius::Int\n",
    "    \n",
    "    function Circle(x_coord::T, y_coord::T, rad::Int) where T <: Real\n",
    "        return new{T}(x_coord, y_coord, rad)\n",
    "    end\n",
    "end "
   ]
  },
  {
   "cell_type": "markdown",
   "id": "ca6861f6",
   "metadata": {
    "slideshow": {
     "slide_type": "subslide"
    }
   },
   "source": [
    "### Operator Overloading (cont.)"
   ]
  },
  {
   "cell_type": "code",
   "execution_count": null,
   "id": "22936662",
   "metadata": {
    "slideshow": {
     "slide_type": "fragment"
    }
   },
   "outputs": [],
   "source": [
    "import Base.+ \n",
    "\n",
    "function +(c1::Circle, c2::Circle)\n",
    "\n",
    "    x_new = (c1.x + c2.x) / 2\n",
    "    y_new = (c1.y + c2.y) / 2\n",
    "    \n",
    "    rad = c1.radius + c2.radius\n",
    "    \n",
    "    res = Circle(x_new, y_new, rad)\n",
    "    \n",
    "    return res \n",
    "end\n"
   ]
  },
  {
   "cell_type": "code",
   "execution_count": null,
   "id": "f79f2f90",
   "metadata": {
    "slideshow": {
     "slide_type": "subslide"
    }
   },
   "outputs": [],
   "source": [
    "# Test our new method for +() function\n",
    "\n",
    "c1 = Circle(2, 3, 4)\n",
    "c2 = Circle(1, 2, 5)"
   ]
  },
  {
   "cell_type": "code",
   "execution_count": null,
   "id": "e5be2e05",
   "metadata": {
    "slideshow": {
     "slide_type": "fragment"
    }
   },
   "outputs": [],
   "source": [
    "typeof(c1)"
   ]
  },
  {
   "cell_type": "code",
   "execution_count": null,
   "id": "f162b377",
   "metadata": {
    "slideshow": {
     "slide_type": "fragment"
    }
   },
   "outputs": [],
   "source": [
    "c1 + c2"
   ]
  },
  {
   "cell_type": "markdown",
   "id": "2df2dee5",
   "metadata": {
    "slideshow": {
     "slide_type": "slide"
    }
   },
   "source": [
    "# Parallel Programming with Julia\n",
    "\n",
    "* Parallel programming is easy and powerful in Julia!!\n",
    "* Can do shared-memory parallelism using threads\n",
    "* Some parallelism is automatic in Julia!\n"
   ]
  },
  {
   "cell_type": "code",
   "execution_count": null,
   "id": "dc385ddb",
   "metadata": {
    "slideshow": {
     "slide_type": "-"
    }
   },
   "outputs": [],
   "source": [
    "n = 10_000\n",
    "\n",
    "A = randn((n, n))\n",
    "B = randn((n, n))\n",
    "\n",
    "C = A * B              # matrix multiplication is parallelized in Julia by default"
   ]
  },
  {
   "cell_type": "markdown",
   "id": "cbfc1591",
   "metadata": {
    "slideshow": {
     "slide_type": "subslide"
    }
   },
   "source": [
    "## Using `Threads` Module\n",
    "\n",
    "* The `Threads` module is built in to the standard Julia library\n",
    "* Note that the `JULIA_NUM_THREADS` environment variable should be set to the number of cores on your machine\n",
    "  + For example, I have an M2 Max chip with 12 cores, so in my `~/.zshrc` file, I have the following:\n",
    "  ```export JULIA_NUM_THREADS=12```"
   ]
  },
  {
   "cell_type": "code",
   "execution_count": null,
   "id": "56e57c02",
   "metadata": {
    "slideshow": {
     "slide_type": "fragment"
    }
   },
   "outputs": [],
   "source": [
    "using Base.Threads       # load Threads module"
   ]
  },
  {
   "cell_type": "code",
   "execution_count": null,
   "id": "2cd2e734",
   "metadata": {
    "slideshow": {
     "slide_type": "fragment"
    }
   },
   "outputs": [],
   "source": [
    "nthreads()               # display number of available threads"
   ]
  },
  {
   "cell_type": "markdown",
   "id": "1a632337",
   "metadata": {
    "slideshow": {
     "slide_type": "subslide"
    }
   },
   "source": [
    "## Using `@threads` Macro"
   ]
  },
  {
   "cell_type": "code",
   "execution_count": null,
   "id": "0acdf92a",
   "metadata": {
    "slideshow": {
     "slide_type": "-"
    }
   },
   "outputs": [],
   "source": [
    "function fill_with_thread_id() \n",
    "    \n",
    "    n = 100_000_000\n",
    "    vec = zeros(Int, n)\n",
    "    \n",
    "    @threads for i in 1:n \n",
    "        # @threads macro tells julia we want our loop iterations to\n",
    "        # be handled by different threads to distribute the workload \n",
    "        vec[i] = Threads.threadid()\n",
    "    end\n",
    "    \n",
    "    return vec\n",
    "end "
   ]
  },
  {
   "cell_type": "code",
   "execution_count": null,
   "id": "b9e51d45",
   "metadata": {
    "slideshow": {
     "slide_type": "-"
    }
   },
   "outputs": [],
   "source": [
    "thread_ids = fill_with_thread_id()"
   ]
  },
  {
   "cell_type": "markdown",
   "id": "58cb2314",
   "metadata": {
    "slideshow": {
     "slide_type": "slide"
    }
   },
   "source": [
    "<center><h1>Challenge Problem 2</h1></center>\n",
    "\n",
    "\n",
    "Write a function that, when given a matrix, `X`, of integers, will return a new matrix, `Y`, whose elements `Y[i, j]` will be boolean values indicating whether or not the element `X[i, j]` is prime. Note that you can use the `isprime()` function in the Primes.jl package. Since the `X` matrix is large, and the task is \"embarrassingly parallel\", let's try to use `@threads` macro for multi-threading to make this fast!\n",
    "\n",
    "**HINT:** Julia uses column-major ordering of elements; bear this in mind to shave off some run time!"
   ]
  },
  {
   "cell_type": "code",
   "execution_count": null,
   "id": "87756168",
   "metadata": {},
   "outputs": [],
   "source": [
    "using Pkg\n",
    "\n",
    "Pkg.add(\"Primes\")"
   ]
  },
  {
   "cell_type": "code",
   "execution_count": null,
   "id": "de3ff954",
   "metadata": {
    "slideshow": {
     "slide_type": "-"
    }
   },
   "outputs": [],
   "source": [
    "using Primes\n",
    "using Random\n",
    "\n",
    "Random.seed!(137)                     # set seed for reproducibility\n",
    "\n",
    "A = rand(1:100_000, 20_000, 20_000)   # matrix of random integers from 1 to 100,000\n",
    "\n",
    "function prime_status(mat)\n",
    "    #\n",
    "    # your code goes here \n",
    "    #  \n",
    "\n",
    "end"
   ]
  },
  {
   "cell_type": "code",
   "execution_count": null,
   "id": "df484306",
   "metadata": {
    "slideshow": {
     "slide_type": "-"
    }
   },
   "outputs": [],
   "source": [
    "@time prime_status(A)"
   ]
  },
  {
   "cell_type": "markdown",
   "id": "2bdaac98",
   "metadata": {
    "slideshow": {
     "slide_type": "slide"
    }
   },
   "source": [
    "# DataFrames in Julia\n",
    "\n",
    "* The DataFrames.jl package implements this important data structure"
   ]
  },
  {
   "cell_type": "code",
   "execution_count": null,
   "id": "a3341fca",
   "metadata": {},
   "outputs": [],
   "source": [
    "Pkg.add(\"DataFrames\")"
   ]
  },
  {
   "cell_type": "code",
   "execution_count": null,
   "id": "6194b530",
   "metadata": {
    "slideshow": {
     "slide_type": "-"
    }
   },
   "outputs": [],
   "source": [
    "using DataFrames"
   ]
  },
  {
   "cell_type": "code",
   "execution_count": null,
   "id": "8cd04b78",
   "metadata": {
    "slideshow": {
     "slide_type": "fragment"
    }
   },
   "outputs": [],
   "source": [
    "df = DataFrame(v = rand(1:1000, 10), \n",
    "               x = randn(10), \n",
    "               y = rand(['a', 't', 'g', 'c'], 10), \n",
    "               z = rand([\"foo\", \"bar\", \"baz\"], 10))"
   ]
  },
  {
   "cell_type": "markdown",
   "id": "d6d42e56",
   "metadata": {
    "slideshow": {
     "slide_type": "subslide"
    }
   },
   "source": [
    "## Accessing Elements of DataFrame"
   ]
  },
  {
   "cell_type": "code",
   "execution_count": null,
   "id": "81b92c0b",
   "metadata": {
    "slideshow": {
     "slide_type": "-"
    }
   },
   "outputs": [],
   "source": [
    "df[1, 2]                # get element from first row, second column"
   ]
  },
  {
   "cell_type": "code",
   "execution_count": null,
   "id": "5d316a09",
   "metadata": {
    "slideshow": {
     "slide_type": "fragment"
    }
   },
   "outputs": [],
   "source": [
    "df[2:4, :z]             # get elements from rows 2 to 4 in column `z`"
   ]
  },
  {
   "cell_type": "code",
   "execution_count": null,
   "id": "e8178353",
   "metadata": {
    "slideshow": {
     "slide_type": "fragment"
    }
   },
   "outputs": [],
   "source": [
    "df[:, :x]              # get all of column `x`"
   ]
  },
  {
   "cell_type": "markdown",
   "id": "9b6a3480",
   "metadata": {
    "slideshow": {
     "slide_type": "subslide"
    }
   },
   "source": [
    "### Accessing Columns\n"
   ]
  },
  {
   "cell_type": "code",
   "execution_count": null,
   "id": "dcdee91e",
   "metadata": {
    "slideshow": {
     "slide_type": "-"
    }
   },
   "outputs": [],
   "source": [
    "df[:, [:v, :y]]         # get columns `v` and `y`"
   ]
  },
  {
   "cell_type": "code",
   "execution_count": null,
   "id": "0d88cac9",
   "metadata": {
    "slideshow": {
     "slide_type": "fragment"
    }
   },
   "outputs": [],
   "source": [
    "df[:, Not(:z)]         # get all columns except `z`"
   ]
  },
  {
   "cell_type": "markdown",
   "id": "b5a97158",
   "metadata": {
    "slideshow": {
     "slide_type": "subslide"
    }
   },
   "source": [
    "## Reading from CSV File\n"
   ]
  },
  {
   "cell_type": "code",
   "execution_count": null,
   "id": "2b0f6c59",
   "metadata": {},
   "outputs": [],
   "source": [
    "Pkg.add(\"CSV\")"
   ]
  },
  {
   "cell_type": "code",
   "execution_count": null,
   "id": "12a2aa58",
   "metadata": {
    "slideshow": {
     "slide_type": "-"
    }
   },
   "outputs": [],
   "source": [
    "using CSV"
   ]
  },
  {
   "cell_type": "code",
   "execution_count": null,
   "id": "ff29fc8c",
   "metadata": {
    "slideshow": {
     "slide_type": "fragment"
    }
   },
   "outputs": [],
   "source": [
    "arrests_df = CSV.read(\"data/pvd_arrests_2021-10-03.csv\", DataFrame)"
   ]
  },
  {
   "cell_type": "markdown",
   "id": "a49a149e",
   "metadata": {
    "slideshow": {
     "slide_type": "subslide"
    }
   },
   "source": [
    "## Summarizing DataFrame"
   ]
  },
  {
   "cell_type": "code",
   "execution_count": null,
   "id": "30fb8f52",
   "metadata": {
    "slideshow": {
     "slide_type": "-"
    }
   },
   "outputs": [],
   "source": [
    "describe(arrests_df)"
   ]
  },
  {
   "cell_type": "markdown",
   "id": "d2ba6dbf",
   "metadata": {
    "slideshow": {
     "slide_type": "subslide"
    }
   },
   "source": [
    "## Split-Apply-Combine Pattern"
   ]
  },
  {
   "cell_type": "code",
   "execution_count": null,
   "id": "6626ab41",
   "metadata": {},
   "outputs": [],
   "source": [
    "Pkg.add(\"StatsBase\")"
   ]
  },
  {
   "cell_type": "code",
   "execution_count": null,
   "id": "ad2b2222",
   "metadata": {
    "slideshow": {
     "slide_type": "-"
    }
   },
   "outputs": [],
   "source": [
    "using StatsBase\n",
    "\n",
    "arrests_gdf = groupby(arrests_df, :from_state)  # create grouped-dataframe\n",
    "\n",
    "combine(arrests_gdf, :age => median)              # apply function group-wise"
   ]
  },
  {
   "cell_type": "markdown",
   "id": "functional-theology",
   "metadata": {
    "slideshow": {
     "slide_type": "slide"
    }
   },
   "source": [
    "<center><h1>Challenge Problem 3</h1></center>\n",
    "\n",
    "\n",
    "Write a function, `count_chars()`, that takes an arrry of characters and returns a dictionary with counts for each how many times each character appeared in the array.\n",
    "\n",
    "**Hint:** There are several ways to accomplish this. You could use some `if` and `else` combination inside a `for` loop to check whether a key is in the dictionary, but you might instead consider using the `get()` function, which allows us to specify a default value when a key is not in the dictionary. Either approach is perfectly fine.\n"
   ]
  },
  {
   "cell_type": "code",
   "execution_count": null,
   "id": "graphic-terrorist",
   "metadata": {
    "slideshow": {
     "slide_type": "-"
    }
   },
   "outputs": [],
   "source": [
    "using Random\n",
    "\n",
    "\n",
    "Random.seed!(137)\n",
    "\n",
    "v = rand(['a', 't', 'g', 'c'], 500_000_000)\n",
    "\n",
    "function count_chars(chars_vec)\n",
    "    #\n",
    "    # your code goes here\n",
    "    #\n",
    "        \n",
    "    \n",
    "end "
   ]
  },
  {
   "cell_type": "code",
   "execution_count": null,
   "id": "270401ac",
   "metadata": {
    "slideshow": {
     "slide_type": "-"
    }
   },
   "outputs": [],
   "source": [
    "@time count_chars(v)"
   ]
  },
  {
   "cell_type": "markdown",
   "id": "85b9ccd6",
   "metadata": {
    "slideshow": {
     "slide_type": "slide"
    }
   },
   "source": [
    "# <center>Thank you!</center>"
   ]
  }
 ],
 "metadata": {
  "@webio": {
   "lastCommId": null,
   "lastKernelId": null
  },
  "celltoolbar": "Slideshow",
  "kernelspec": {
   "display_name": "Julia 1.10.4",
   "language": "julia",
   "name": "julia-1.10"
  },
  "language_info": {
   "file_extension": ".jl",
   "mimetype": "application/julia",
   "name": "julia",
   "version": "1.10.4"
  }
 },
 "nbformat": 4,
 "nbformat_minor": 5
}

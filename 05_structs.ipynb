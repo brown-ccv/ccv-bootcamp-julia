{
 "cells": [
  {
   "cell_type": "markdown",
   "metadata": {
    "slideshow": {
     "slide_type": "slide"
    }
   },
   "source": [
    "# <center>User-Defined Types</center>\n",
    "\n",
    "### <center> Paul Stey & Mary McGrath</center>\n",
    "### <center> Brown University — Center for Computation \\& Visualization — `ccv.brown.edu`</center>\n",
    "\n",
    "<center><img src=ccv-logo-square.png height=\"300\" width=\"300\"></center>"
   ]
  },
  {
   "cell_type": "markdown",
   "metadata": {
    "slideshow": {
     "slide_type": "subslide"
    }
   },
   "source": [
    "## User-Defined Types \n",
    "\n",
    "1. User can define composite types (i.e., `struct`s)\n",
    "2. A `struct` can be mutable or immutable\n",
    "3. Immutable `struct`s are allocated on stack, mutable are on the heap"
   ]
  },
  {
   "cell_type": "code",
   "execution_count": null,
   "metadata": {
    "slideshow": {
     "slide_type": "subslide"
    }
   },
   "outputs": [],
   "source": [
    "struct Dog\n",
    "    name \n",
    "    age \n",
    "    words\n",
    "end \n",
    "\n",
    "\n",
    "struct Cat\n",
    "    name\n",
    "    age\n",
    "    words\n",
    "end \n"
   ]
  },
  {
   "cell_type": "code",
   "execution_count": null,
   "metadata": {
    "slideshow": {
     "slide_type": "subslide"
    }
   },
   "outputs": [],
   "source": [
    "\n",
    "function say_name(x::Dog)\n",
    "    s = \"$(x.words), my name is $(x.name), and I'm a dog.\"\n",
    "    println(s)\n",
    "end\n",
    "\n",
    "willie = Dog(\"William Lee\", 11, \"Woof\")    \n",
    "\n",
    "say_name(willie)"
   ]
  },
  {
   "cell_type": "code",
   "execution_count": null,
   "metadata": {
    "slideshow": {
     "slide_type": "subslide"
    }
   },
   "outputs": [],
   "source": [
    "function say_name(x::Cat)\n",
    "    for i = 1:rand(1:10)\n",
    "        print(\"$(x.words) \")\n",
    "    end\n",
    "end\n",
    "\n",
    "ricky = Cat(\"Richard\", 7, \"Meow\")\n",
    "\n",
    "say_name(ricky)"
   ]
  },
  {
   "cell_type": "code",
   "execution_count": null,
   "metadata": {
    "slideshow": {
     "slide_type": "subslide"
    }
   },
   "outputs": [],
   "source": [
    "# Example of multiple dispatch\n",
    "\n",
    "function say_name(x::Dog, y::Cat)\n",
    "    println(\"Two animals fight briefly...\\n\\nAnd the winner is: $(x.name)\")\n",
    "end "
   ]
  },
  {
   "cell_type": "code",
   "execution_count": null,
   "metadata": {
    "slideshow": {
     "slide_type": "-"
    }
   },
   "outputs": [],
   "source": [
    "say_name(willie, ricky)"
   ]
  },
  {
   "cell_type": "code",
   "execution_count": null,
   "metadata": {
    "slideshow": {
     "slide_type": "subslide"
    }
   },
   "outputs": [],
   "source": [
    "# Define new struct that is Dog/Cat hybrid\n",
    "\n",
    "struct Dat \n",
    "    name\n",
    "    age\n",
    "    words\n",
    "end "
   ]
  },
  {
   "cell_type": "markdown",
   "metadata": {
    "slideshow": {
     "slide_type": "subslide"
    }
   },
   "source": [
    "### Operator Overloading\n",
    "\n",
    "+ Can overload base language's operators (e.g., `+`, `*`, `/`)"
   ]
  },
  {
   "cell_type": "code",
   "execution_count": null,
   "metadata": {
    "slideshow": {
     "slide_type": "-"
    }
   },
   "outputs": [],
   "source": [
    "import Base.+ \n",
    "\n",
    "function +(x::Dog, y::Cat)\n",
    "    res = Dat(x.name, y.age, string(x.words, y.words))\n",
    "    return res \n",
    "end\n"
   ]
  },
  {
   "cell_type": "code",
   "execution_count": null,
   "metadata": {
    "slideshow": {
     "slide_type": "-"
    }
   },
   "outputs": [],
   "source": [
    "# Test our new method for +() function\n",
    "\n",
    "willie + ricky"
   ]
  },
  {
   "cell_type": "markdown",
   "metadata": {
    "slideshow": {
     "slide_type": "slide"
    }
   },
   "source": [
    "# <center>End of Notebook</center>"
   ]
  }
 ],
 "metadata": {
  "@webio": {
   "lastCommId": null,
   "lastKernelId": null
  },
  "celltoolbar": "Slideshow",
  "kernelspec": {
   "display_name": "Julia 1.1.1",
   "language": "julia",
   "name": "julia-1.1"
  },
  "language_info": {
   "file_extension": ".jl",
   "mimetype": "application/julia",
   "name": "julia",
   "version": "1.1.1"
  }
 },
 "nbformat": 4,
 "nbformat_minor": 2
}
